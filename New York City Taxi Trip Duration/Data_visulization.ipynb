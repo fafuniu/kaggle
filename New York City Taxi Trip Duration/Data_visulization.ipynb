{
 "cells": [
  {
   "cell_type": "code",
   "execution_count": 156,
   "metadata": {
    "ExecuteTime": {
     "end_time": "2018-06-30T02:08:46.969586Z",
     "start_time": "2018-06-30T02:08:46.962778Z"
    },
    "collapsed": true
   },
   "outputs": [],
   "source": [
    "import pandas as pd\n",
    "import seaborn as sns\n",
    "import matplotlib.pyplot as plt\n",
    "import numpy as np"
   ]
  },
  {
   "cell_type": "code",
   "execution_count": 157,
   "metadata": {
    "ExecuteTime": {
     "end_time": "2018-06-30T02:08:51.759052Z",
     "start_time": "2018-06-30T02:08:46.972802Z"
    }
   },
   "outputs": [
    {
     "name": "stdout",
     "output_type": "stream",
     "text": [
      "<class 'pandas.core.frame.DataFrame'>\n",
      "RangeIndex: 1458644 entries, 0 to 1458643\n",
      "Data columns (total 11 columns):\n",
      "id                    1458644 non-null object\n",
      "vendor_id             1458644 non-null int64\n",
      "pickup_datetime       1458644 non-null object\n",
      "dropoff_datetime      1458644 non-null object\n",
      "passenger_count       1458644 non-null int64\n",
      "pickup_longitude      1458644 non-null float64\n",
      "pickup_latitude       1458644 non-null float64\n",
      "dropoff_longitude     1458644 non-null float64\n",
      "dropoff_latitude      1458644 non-null float64\n",
      "store_and_fwd_flag    1458644 non-null object\n",
      "trip_duration         1458644 non-null int64\n",
      "dtypes: float64(4), int64(3), object(4)\n",
      "memory usage: 122.4+ MB\n"
     ]
    }
   ],
   "source": [
    "train=pd.read_csv(\"./input/train.csv\")\n",
    "train.info()"
   ]
  },
  {
   "cell_type": "code",
   "execution_count": 158,
   "metadata": {
    "ExecuteTime": {
     "end_time": "2018-06-30T02:08:53.211027Z",
     "start_time": "2018-06-30T02:08:51.760819Z"
    }
   },
   "outputs": [
    {
     "name": "stdout",
     "output_type": "stream",
     "text": [
      "<class 'pandas.core.frame.DataFrame'>\n",
      "RangeIndex: 625134 entries, 0 to 625133\n",
      "Data columns (total 9 columns):\n",
      "id                    625134 non-null object\n",
      "vendor_id             625134 non-null int64\n",
      "pickup_datetime       625134 non-null object\n",
      "passenger_count       625134 non-null int64\n",
      "pickup_longitude      625134 non-null float64\n",
      "pickup_latitude       625134 non-null float64\n",
      "dropoff_longitude     625134 non-null float64\n",
      "dropoff_latitude      625134 non-null float64\n",
      "store_and_fwd_flag    625134 non-null object\n",
      "dtypes: float64(4), int64(2), object(3)\n",
      "memory usage: 42.9+ MB\n"
     ]
    }
   ],
   "source": [
    "test=pd.read_csv(\"./input/test.csv\")\n",
    "test.info()"
   ]
  },
  {
   "cell_type": "code",
   "execution_count": 159,
   "metadata": {
    "ExecuteTime": {
     "end_time": "2018-06-30T02:08:53.241927Z",
     "start_time": "2018-06-30T02:08:53.214260Z"
    }
   },
   "outputs": [
    {
     "data": {
      "text/html": [
       "<div>\n",
       "<style>\n",
       "    .dataframe thead tr:only-child th {\n",
       "        text-align: right;\n",
       "    }\n",
       "\n",
       "    .dataframe thead th {\n",
       "        text-align: left;\n",
       "    }\n",
       "\n",
       "    .dataframe tbody tr th {\n",
       "        vertical-align: top;\n",
       "    }\n",
       "</style>\n",
       "<table border=\"1\" class=\"dataframe\">\n",
       "  <thead>\n",
       "    <tr style=\"text-align: right;\">\n",
       "      <th></th>\n",
       "      <th>id</th>\n",
       "      <th>passenger_count</th>\n",
       "      <th>trip_duration</th>\n",
       "      <th>det_lat</th>\n",
       "      <th>det_lon</th>\n",
       "      <th>det</th>\n",
       "      <th>store_and_fwd_flag_N</th>\n",
       "      <th>store_and_fwd_flag_Y</th>\n",
       "      <th>vendor_id_1</th>\n",
       "      <th>vendor_id_2</th>\n",
       "      <th>...</th>\n",
       "      <th>hour_14</th>\n",
       "      <th>hour_15</th>\n",
       "      <th>hour_16</th>\n",
       "      <th>hour_17</th>\n",
       "      <th>hour_18</th>\n",
       "      <th>hour_19</th>\n",
       "      <th>hour_20</th>\n",
       "      <th>hour_21</th>\n",
       "      <th>hour_22</th>\n",
       "      <th>hour_23</th>\n",
       "    </tr>\n",
       "  </thead>\n",
       "  <tbody>\n",
       "    <tr>\n",
       "      <th>1</th>\n",
       "      <td>id2377394</td>\n",
       "      <td>1</td>\n",
       "      <td>6.496775</td>\n",
       "      <td>0.007412</td>\n",
       "      <td>0.019066</td>\n",
       "      <td>0.020456</td>\n",
       "      <td>1</td>\n",
       "      <td>0</td>\n",
       "      <td>1</td>\n",
       "      <td>0</td>\n",
       "      <td>...</td>\n",
       "      <td>0</td>\n",
       "      <td>0</td>\n",
       "      <td>0</td>\n",
       "      <td>0</td>\n",
       "      <td>0</td>\n",
       "      <td>0</td>\n",
       "      <td>0</td>\n",
       "      <td>0</td>\n",
       "      <td>0</td>\n",
       "      <td>0</td>\n",
       "    </tr>\n",
       "    <tr>\n",
       "      <th>2</th>\n",
       "      <td>id3858529</td>\n",
       "      <td>1</td>\n",
       "      <td>7.661056</td>\n",
       "      <td>0.053852</td>\n",
       "      <td>0.026306</td>\n",
       "      <td>0.059934</td>\n",
       "      <td>1</td>\n",
       "      <td>0</td>\n",
       "      <td>0</td>\n",
       "      <td>1</td>\n",
       "      <td>...</td>\n",
       "      <td>0</td>\n",
       "      <td>0</td>\n",
       "      <td>0</td>\n",
       "      <td>0</td>\n",
       "      <td>0</td>\n",
       "      <td>0</td>\n",
       "      <td>0</td>\n",
       "      <td>0</td>\n",
       "      <td>0</td>\n",
       "      <td>0</td>\n",
       "    </tr>\n",
       "    <tr>\n",
       "      <th>3</th>\n",
       "      <td>id3504673</td>\n",
       "      <td>1</td>\n",
       "      <td>6.061457</td>\n",
       "      <td>0.013252</td>\n",
       "      <td>0.002228</td>\n",
       "      <td>0.013438</td>\n",
       "      <td>1</td>\n",
       "      <td>0</td>\n",
       "      <td>0</td>\n",
       "      <td>1</td>\n",
       "      <td>...</td>\n",
       "      <td>0</td>\n",
       "      <td>0</td>\n",
       "      <td>0</td>\n",
       "      <td>0</td>\n",
       "      <td>0</td>\n",
       "      <td>1</td>\n",
       "      <td>0</td>\n",
       "      <td>0</td>\n",
       "      <td>0</td>\n",
       "      <td>0</td>\n",
       "    </tr>\n",
       "    <tr>\n",
       "      <th>4</th>\n",
       "      <td>id2181028</td>\n",
       "      <td>1</td>\n",
       "      <td>6.075346</td>\n",
       "      <td>0.010689</td>\n",
       "      <td>0.000130</td>\n",
       "      <td>0.010690</td>\n",
       "      <td>1</td>\n",
       "      <td>0</td>\n",
       "      <td>0</td>\n",
       "      <td>1</td>\n",
       "      <td>...</td>\n",
       "      <td>0</td>\n",
       "      <td>0</td>\n",
       "      <td>0</td>\n",
       "      <td>0</td>\n",
       "      <td>0</td>\n",
       "      <td>0</td>\n",
       "      <td>0</td>\n",
       "      <td>0</td>\n",
       "      <td>0</td>\n",
       "      <td>0</td>\n",
       "    </tr>\n",
       "    <tr>\n",
       "      <th>5</th>\n",
       "      <td>id0801584</td>\n",
       "      <td>6</td>\n",
       "      <td>6.093570</td>\n",
       "      <td>0.006989</td>\n",
       "      <td>0.009224</td>\n",
       "      <td>0.011572</td>\n",
       "      <td>1</td>\n",
       "      <td>0</td>\n",
       "      <td>0</td>\n",
       "      <td>1</td>\n",
       "      <td>...</td>\n",
       "      <td>0</td>\n",
       "      <td>0</td>\n",
       "      <td>0</td>\n",
       "      <td>0</td>\n",
       "      <td>0</td>\n",
       "      <td>0</td>\n",
       "      <td>0</td>\n",
       "      <td>0</td>\n",
       "      <td>1</td>\n",
       "      <td>0</td>\n",
       "    </tr>\n",
       "  </tbody>\n",
       "</table>\n",
       "<p>5 rows × 47 columns</p>\n",
       "</div>"
      ],
      "text/plain": [
       "          id  passenger_count  trip_duration   det_lat   det_lon       det  \\\n",
       "1  id2377394                1       6.496775  0.007412  0.019066  0.020456   \n",
       "2  id3858529                1       7.661056  0.053852  0.026306  0.059934   \n",
       "3  id3504673                1       6.061457  0.013252  0.002228  0.013438   \n",
       "4  id2181028                1       6.075346  0.010689  0.000130  0.010690   \n",
       "5  id0801584                6       6.093570  0.006989  0.009224  0.011572   \n",
       "\n",
       "   store_and_fwd_flag_N  store_and_fwd_flag_Y  vendor_id_1  vendor_id_2  \\\n",
       "1                     1                     0            1            0   \n",
       "2                     1                     0            0            1   \n",
       "3                     1                     0            0            1   \n",
       "4                     1                     0            0            1   \n",
       "5                     1                     0            0            1   \n",
       "\n",
       "    ...     hour_14  hour_15  hour_16  hour_17  hour_18  hour_19  hour_20  \\\n",
       "1   ...           0        0        0        0        0        0        0   \n",
       "2   ...           0        0        0        0        0        0        0   \n",
       "3   ...           0        0        0        0        0        1        0   \n",
       "4   ...           0        0        0        0        0        0        0   \n",
       "5   ...           0        0        0        0        0        0        0   \n",
       "\n",
       "   hour_21  hour_22  hour_23  \n",
       "1        0        0        0  \n",
       "2        0        0        0  \n",
       "3        0        0        0  \n",
       "4        0        0        0  \n",
       "5        0        1        0  \n",
       "\n",
       "[5 rows x 47 columns]"
      ]
     },
     "execution_count": 159,
     "metadata": {},
     "output_type": "execute_result"
    }
   ],
   "source": [
    "df.head()"
   ]
  },
  {
   "cell_type": "code",
   "execution_count": 160,
   "metadata": {
    "ExecuteTime": {
     "end_time": "2018-06-30T02:08:53.251435Z",
     "start_time": "2018-06-30T02:08:53.244401Z"
    }
   },
   "outputs": [
    {
     "data": {
      "text/plain": [
       "id                       object\n",
       "passenger_count           int64\n",
       "trip_duration           float64\n",
       "det_lat                 float64\n",
       "det_lon                 float64\n",
       "det                     float64\n",
       "store_and_fwd_flag_N      uint8\n",
       "store_and_fwd_flag_Y      uint8\n",
       "vendor_id_1               uint8\n",
       "vendor_id_2               uint8\n",
       "weekday_0                 uint8\n",
       "weekday_1                 uint8\n",
       "weekday_2                 uint8\n",
       "weekday_3                 uint8\n",
       "weekday_4                 uint8\n",
       "weekday_5                 uint8\n",
       "weekday_6                 uint8\n",
       "month_1                   uint8\n",
       "month_2                   uint8\n",
       "month_3                   uint8\n",
       "month_4                   uint8\n",
       "month_5                   uint8\n",
       "month_6                   uint8\n",
       "hour_0                    uint8\n",
       "hour_1                    uint8\n",
       "hour_2                    uint8\n",
       "hour_3                    uint8\n",
       "hour_4                    uint8\n",
       "hour_5                    uint8\n",
       "hour_6                    uint8\n",
       "hour_7                    uint8\n",
       "hour_8                    uint8\n",
       "hour_9                    uint8\n",
       "hour_10                   uint8\n",
       "hour_11                   uint8\n",
       "hour_12                   uint8\n",
       "hour_13                   uint8\n",
       "hour_14                   uint8\n",
       "hour_15                   uint8\n",
       "hour_16                   uint8\n",
       "hour_17                   uint8\n",
       "hour_18                   uint8\n",
       "hour_19                   uint8\n",
       "hour_20                   uint8\n",
       "hour_21                   uint8\n",
       "hour_22                   uint8\n",
       "hour_23                   uint8\n",
       "dtype: object"
      ]
     },
     "execution_count": 160,
     "metadata": {},
     "output_type": "execute_result"
    }
   ],
   "source": [
    "df.dtypes"
   ]
  },
  {
   "cell_type": "code",
   "execution_count": 161,
   "metadata": {
    "ExecuteTime": {
     "end_time": "2018-06-30T02:08:53.259371Z",
     "start_time": "2018-06-30T02:08:53.253512Z"
    }
   },
   "outputs": [
    {
     "data": {
      "text/plain": [
       "pandas.core.frame.DataFrame"
      ]
     },
     "execution_count": 161,
     "metadata": {},
     "output_type": "execute_result"
    }
   ],
   "source": [
    "type(test)"
   ]
  },
  {
   "cell_type": "code",
   "execution_count": 162,
   "metadata": {
    "ExecuteTime": {
     "end_time": "2018-06-30T02:08:53.577609Z",
     "start_time": "2018-06-30T02:08:53.261428Z"
    }
   },
   "outputs": [],
   "source": [
    "df=pd.concat([train,test],axis=0)\n",
    "train_len=len(train)"
   ]
  },
  {
   "cell_type": "code",
   "execution_count": 163,
   "metadata": {
    "ExecuteTime": {
     "end_time": "2018-06-30T02:08:53.603606Z",
     "start_time": "2018-06-30T02:08:53.579272Z"
    }
   },
   "outputs": [
    {
     "data": {
      "text/html": [
       "<div>\n",
       "<style>\n",
       "    .dataframe thead tr:only-child th {\n",
       "        text-align: right;\n",
       "    }\n",
       "\n",
       "    .dataframe thead th {\n",
       "        text-align: left;\n",
       "    }\n",
       "\n",
       "    .dataframe tbody tr th {\n",
       "        vertical-align: top;\n",
       "    }\n",
       "</style>\n",
       "<table border=\"1\" class=\"dataframe\">\n",
       "  <thead>\n",
       "    <tr style=\"text-align: right;\">\n",
       "      <th></th>\n",
       "      <th>dropoff_datetime</th>\n",
       "      <th>dropoff_latitude</th>\n",
       "      <th>dropoff_longitude</th>\n",
       "      <th>id</th>\n",
       "      <th>passenger_count</th>\n",
       "      <th>pickup_datetime</th>\n",
       "      <th>pickup_latitude</th>\n",
       "      <th>pickup_longitude</th>\n",
       "      <th>store_and_fwd_flag</th>\n",
       "      <th>trip_duration</th>\n",
       "      <th>vendor_id</th>\n",
       "    </tr>\n",
       "  </thead>\n",
       "  <tbody>\n",
       "    <tr>\n",
       "      <th>0</th>\n",
       "      <td>2016-03-14 17:32:30</td>\n",
       "      <td>40.765602</td>\n",
       "      <td>-73.964630</td>\n",
       "      <td>id2875421</td>\n",
       "      <td>1</td>\n",
       "      <td>2016-03-14 17:24:55</td>\n",
       "      <td>40.767937</td>\n",
       "      <td>-73.982155</td>\n",
       "      <td>N</td>\n",
       "      <td>455.0</td>\n",
       "      <td>2</td>\n",
       "    </tr>\n",
       "    <tr>\n",
       "      <th>1</th>\n",
       "      <td>2016-06-12 00:54:38</td>\n",
       "      <td>40.731152</td>\n",
       "      <td>-73.999481</td>\n",
       "      <td>id2377394</td>\n",
       "      <td>1</td>\n",
       "      <td>2016-06-12 00:43:35</td>\n",
       "      <td>40.738564</td>\n",
       "      <td>-73.980415</td>\n",
       "      <td>N</td>\n",
       "      <td>663.0</td>\n",
       "      <td>1</td>\n",
       "    </tr>\n",
       "    <tr>\n",
       "      <th>2</th>\n",
       "      <td>2016-01-19 12:10:48</td>\n",
       "      <td>40.710087</td>\n",
       "      <td>-74.005333</td>\n",
       "      <td>id3858529</td>\n",
       "      <td>1</td>\n",
       "      <td>2016-01-19 11:35:24</td>\n",
       "      <td>40.763939</td>\n",
       "      <td>-73.979027</td>\n",
       "      <td>N</td>\n",
       "      <td>2124.0</td>\n",
       "      <td>2</td>\n",
       "    </tr>\n",
       "    <tr>\n",
       "      <th>3</th>\n",
       "      <td>2016-04-06 19:39:40</td>\n",
       "      <td>40.706718</td>\n",
       "      <td>-74.012268</td>\n",
       "      <td>id3504673</td>\n",
       "      <td>1</td>\n",
       "      <td>2016-04-06 19:32:31</td>\n",
       "      <td>40.719971</td>\n",
       "      <td>-74.010040</td>\n",
       "      <td>N</td>\n",
       "      <td>429.0</td>\n",
       "      <td>2</td>\n",
       "    </tr>\n",
       "    <tr>\n",
       "      <th>4</th>\n",
       "      <td>2016-03-26 13:38:10</td>\n",
       "      <td>40.782520</td>\n",
       "      <td>-73.972923</td>\n",
       "      <td>id2181028</td>\n",
       "      <td>1</td>\n",
       "      <td>2016-03-26 13:30:55</td>\n",
       "      <td>40.793209</td>\n",
       "      <td>-73.973053</td>\n",
       "      <td>N</td>\n",
       "      <td>435.0</td>\n",
       "      <td>2</td>\n",
       "    </tr>\n",
       "  </tbody>\n",
       "</table>\n",
       "</div>"
      ],
      "text/plain": [
       "      dropoff_datetime  dropoff_latitude  dropoff_longitude         id  \\\n",
       "0  2016-03-14 17:32:30         40.765602         -73.964630  id2875421   \n",
       "1  2016-06-12 00:54:38         40.731152         -73.999481  id2377394   \n",
       "2  2016-01-19 12:10:48         40.710087         -74.005333  id3858529   \n",
       "3  2016-04-06 19:39:40         40.706718         -74.012268  id3504673   \n",
       "4  2016-03-26 13:38:10         40.782520         -73.972923  id2181028   \n",
       "\n",
       "   passenger_count      pickup_datetime  pickup_latitude  pickup_longitude  \\\n",
       "0                1  2016-03-14 17:24:55        40.767937        -73.982155   \n",
       "1                1  2016-06-12 00:43:35        40.738564        -73.980415   \n",
       "2                1  2016-01-19 11:35:24        40.763939        -73.979027   \n",
       "3                1  2016-04-06 19:32:31        40.719971        -74.010040   \n",
       "4                1  2016-03-26 13:30:55        40.793209        -73.973053   \n",
       "\n",
       "  store_and_fwd_flag  trip_duration  vendor_id  \n",
       "0                  N          455.0          2  \n",
       "1                  N          663.0          1  \n",
       "2                  N         2124.0          2  \n",
       "3                  N          429.0          2  \n",
       "4                  N          435.0          2  "
      ]
     },
     "execution_count": 163,
     "metadata": {},
     "output_type": "execute_result"
    }
   ],
   "source": [
    "df.head()"
   ]
  },
  {
   "cell_type": "code",
   "execution_count": 164,
   "metadata": {
    "ExecuteTime": {
     "end_time": "2018-06-30T02:08:53.628874Z",
     "start_time": "2018-06-30T02:08:53.605910Z"
    }
   },
   "outputs": [
    {
     "data": {
      "text/html": [
       "<div>\n",
       "<style>\n",
       "    .dataframe thead tr:only-child th {\n",
       "        text-align: right;\n",
       "    }\n",
       "\n",
       "    .dataframe thead th {\n",
       "        text-align: left;\n",
       "    }\n",
       "\n",
       "    .dataframe tbody tr th {\n",
       "        vertical-align: top;\n",
       "    }\n",
       "</style>\n",
       "<table border=\"1\" class=\"dataframe\">\n",
       "  <thead>\n",
       "    <tr style=\"text-align: right;\">\n",
       "      <th></th>\n",
       "      <th>dropoff_datetime</th>\n",
       "      <th>dropoff_latitude</th>\n",
       "      <th>dropoff_longitude</th>\n",
       "      <th>id</th>\n",
       "      <th>passenger_count</th>\n",
       "      <th>pickup_datetime</th>\n",
       "      <th>pickup_latitude</th>\n",
       "      <th>pickup_longitude</th>\n",
       "      <th>store_and_fwd_flag</th>\n",
       "      <th>trip_duration</th>\n",
       "      <th>vendor_id</th>\n",
       "    </tr>\n",
       "  </thead>\n",
       "  <tbody>\n",
       "    <tr>\n",
       "      <th>625129</th>\n",
       "      <td>NaN</td>\n",
       "      <td>40.733643</td>\n",
       "      <td>-74.001251</td>\n",
       "      <td>id3008929</td>\n",
       "      <td>1</td>\n",
       "      <td>2016-01-01 00:02:52</td>\n",
       "      <td>40.725105</td>\n",
       "      <td>-74.003464</td>\n",
       "      <td>N</td>\n",
       "      <td>NaN</td>\n",
       "      <td>1</td>\n",
       "    </tr>\n",
       "    <tr>\n",
       "      <th>625130</th>\n",
       "      <td>NaN</td>\n",
       "      <td>40.782467</td>\n",
       "      <td>-73.953407</td>\n",
       "      <td>id3700764</td>\n",
       "      <td>1</td>\n",
       "      <td>2016-01-01 00:01:52</td>\n",
       "      <td>40.743782</td>\n",
       "      <td>-74.006363</td>\n",
       "      <td>N</td>\n",
       "      <td>NaN</td>\n",
       "      <td>1</td>\n",
       "    </tr>\n",
       "    <tr>\n",
       "      <th>625131</th>\n",
       "      <td>NaN</td>\n",
       "      <td>40.748665</td>\n",
       "      <td>-73.876602</td>\n",
       "      <td>id2568735</td>\n",
       "      <td>2</td>\n",
       "      <td>2016-01-01 00:01:24</td>\n",
       "      <td>40.759865</td>\n",
       "      <td>-73.972267</td>\n",
       "      <td>N</td>\n",
       "      <td>NaN</td>\n",
       "      <td>1</td>\n",
       "    </tr>\n",
       "    <tr>\n",
       "      <th>625132</th>\n",
       "      <td>NaN</td>\n",
       "      <td>40.891788</td>\n",
       "      <td>-73.854263</td>\n",
       "      <td>id1384355</td>\n",
       "      <td>1</td>\n",
       "      <td>2016-01-01 00:00:28</td>\n",
       "      <td>40.733562</td>\n",
       "      <td>-73.976501</td>\n",
       "      <td>N</td>\n",
       "      <td>NaN</td>\n",
       "      <td>1</td>\n",
       "    </tr>\n",
       "    <tr>\n",
       "      <th>625133</th>\n",
       "      <td>NaN</td>\n",
       "      <td>40.769379</td>\n",
       "      <td>-73.969330</td>\n",
       "      <td>id0621643</td>\n",
       "      <td>2</td>\n",
       "      <td>2016-01-01 00:00:22</td>\n",
       "      <td>40.716881</td>\n",
       "      <td>-73.981850</td>\n",
       "      <td>N</td>\n",
       "      <td>NaN</td>\n",
       "      <td>2</td>\n",
       "    </tr>\n",
       "  </tbody>\n",
       "</table>\n",
       "</div>"
      ],
      "text/plain": [
       "       dropoff_datetime  dropoff_latitude  dropoff_longitude         id  \\\n",
       "625129              NaN         40.733643         -74.001251  id3008929   \n",
       "625130              NaN         40.782467         -73.953407  id3700764   \n",
       "625131              NaN         40.748665         -73.876602  id2568735   \n",
       "625132              NaN         40.891788         -73.854263  id1384355   \n",
       "625133              NaN         40.769379         -73.969330  id0621643   \n",
       "\n",
       "        passenger_count      pickup_datetime  pickup_latitude  \\\n",
       "625129                1  2016-01-01 00:02:52        40.725105   \n",
       "625130                1  2016-01-01 00:01:52        40.743782   \n",
       "625131                2  2016-01-01 00:01:24        40.759865   \n",
       "625132                1  2016-01-01 00:00:28        40.733562   \n",
       "625133                2  2016-01-01 00:00:22        40.716881   \n",
       "\n",
       "        pickup_longitude store_and_fwd_flag  trip_duration  vendor_id  \n",
       "625129        -74.003464                  N            NaN          1  \n",
       "625130        -74.006363                  N            NaN          1  \n",
       "625131        -73.972267                  N            NaN          1  \n",
       "625132        -73.976501                  N            NaN          1  \n",
       "625133        -73.981850                  N            NaN          2  "
      ]
     },
     "execution_count": 164,
     "metadata": {},
     "output_type": "execute_result"
    }
   ],
   "source": [
    "df.tail()"
   ]
  },
  {
   "cell_type": "code",
   "execution_count": 165,
   "metadata": {
    "ExecuteTime": {
     "end_time": "2018-06-30T02:08:55.275201Z",
     "start_time": "2018-06-30T02:08:53.632238Z"
    }
   },
   "outputs": [],
   "source": [
    "df['hour'] = pd.to_datetime(df.pickup_datetime).dt.hour.astype('uint8')\n",
    "df['weekday'] = pd.to_datetime(df.pickup_datetime).dt.weekday.astype('uint8')\n",
    "df['month'] = pd.to_datetime(df.pickup_datetime).dt.month.astype('uint8')"
   ]
  },
  {
   "cell_type": "code",
   "execution_count": 166,
   "metadata": {
    "ExecuteTime": {
     "end_time": "2018-06-30T02:08:55.861874Z",
     "start_time": "2018-06-30T02:08:55.277650Z"
    }
   },
   "outputs": [],
   "source": [
    "df['year'] = pd.to_datetime(df.pickup_datetime).dt.year.astype('uint16')"
   ]
  },
  {
   "cell_type": "code",
   "execution_count": 167,
   "metadata": {
    "ExecuteTime": {
     "end_time": "2018-06-30T02:08:55.886561Z",
     "start_time": "2018-06-30T02:08:55.864054Z"
    }
   },
   "outputs": [
    {
     "data": {
      "text/html": [
       "<div>\n",
       "<style>\n",
       "    .dataframe thead tr:only-child th {\n",
       "        text-align: right;\n",
       "    }\n",
       "\n",
       "    .dataframe thead th {\n",
       "        text-align: left;\n",
       "    }\n",
       "\n",
       "    .dataframe tbody tr th {\n",
       "        vertical-align: top;\n",
       "    }\n",
       "</style>\n",
       "<table border=\"1\" class=\"dataframe\">\n",
       "  <thead>\n",
       "    <tr style=\"text-align: right;\">\n",
       "      <th></th>\n",
       "      <th>dropoff_datetime</th>\n",
       "      <th>dropoff_latitude</th>\n",
       "      <th>dropoff_longitude</th>\n",
       "      <th>id</th>\n",
       "      <th>passenger_count</th>\n",
       "      <th>pickup_datetime</th>\n",
       "      <th>pickup_latitude</th>\n",
       "      <th>pickup_longitude</th>\n",
       "      <th>store_and_fwd_flag</th>\n",
       "      <th>trip_duration</th>\n",
       "      <th>vendor_id</th>\n",
       "      <th>hour</th>\n",
       "      <th>weekday</th>\n",
       "      <th>month</th>\n",
       "      <th>year</th>\n",
       "    </tr>\n",
       "  </thead>\n",
       "  <tbody>\n",
       "    <tr>\n",
       "      <th>0</th>\n",
       "      <td>2016-03-14 17:32:30</td>\n",
       "      <td>40.765602</td>\n",
       "      <td>-73.964630</td>\n",
       "      <td>id2875421</td>\n",
       "      <td>1</td>\n",
       "      <td>2016-03-14 17:24:55</td>\n",
       "      <td>40.767937</td>\n",
       "      <td>-73.982155</td>\n",
       "      <td>N</td>\n",
       "      <td>455.0</td>\n",
       "      <td>2</td>\n",
       "      <td>17</td>\n",
       "      <td>0</td>\n",
       "      <td>3</td>\n",
       "      <td>2016</td>\n",
       "    </tr>\n",
       "    <tr>\n",
       "      <th>1</th>\n",
       "      <td>2016-06-12 00:54:38</td>\n",
       "      <td>40.731152</td>\n",
       "      <td>-73.999481</td>\n",
       "      <td>id2377394</td>\n",
       "      <td>1</td>\n",
       "      <td>2016-06-12 00:43:35</td>\n",
       "      <td>40.738564</td>\n",
       "      <td>-73.980415</td>\n",
       "      <td>N</td>\n",
       "      <td>663.0</td>\n",
       "      <td>1</td>\n",
       "      <td>0</td>\n",
       "      <td>6</td>\n",
       "      <td>6</td>\n",
       "      <td>2016</td>\n",
       "    </tr>\n",
       "    <tr>\n",
       "      <th>2</th>\n",
       "      <td>2016-01-19 12:10:48</td>\n",
       "      <td>40.710087</td>\n",
       "      <td>-74.005333</td>\n",
       "      <td>id3858529</td>\n",
       "      <td>1</td>\n",
       "      <td>2016-01-19 11:35:24</td>\n",
       "      <td>40.763939</td>\n",
       "      <td>-73.979027</td>\n",
       "      <td>N</td>\n",
       "      <td>2124.0</td>\n",
       "      <td>2</td>\n",
       "      <td>11</td>\n",
       "      <td>1</td>\n",
       "      <td>1</td>\n",
       "      <td>2016</td>\n",
       "    </tr>\n",
       "    <tr>\n",
       "      <th>3</th>\n",
       "      <td>2016-04-06 19:39:40</td>\n",
       "      <td>40.706718</td>\n",
       "      <td>-74.012268</td>\n",
       "      <td>id3504673</td>\n",
       "      <td>1</td>\n",
       "      <td>2016-04-06 19:32:31</td>\n",
       "      <td>40.719971</td>\n",
       "      <td>-74.010040</td>\n",
       "      <td>N</td>\n",
       "      <td>429.0</td>\n",
       "      <td>2</td>\n",
       "      <td>19</td>\n",
       "      <td>2</td>\n",
       "      <td>4</td>\n",
       "      <td>2016</td>\n",
       "    </tr>\n",
       "    <tr>\n",
       "      <th>4</th>\n",
       "      <td>2016-03-26 13:38:10</td>\n",
       "      <td>40.782520</td>\n",
       "      <td>-73.972923</td>\n",
       "      <td>id2181028</td>\n",
       "      <td>1</td>\n",
       "      <td>2016-03-26 13:30:55</td>\n",
       "      <td>40.793209</td>\n",
       "      <td>-73.973053</td>\n",
       "      <td>N</td>\n",
       "      <td>435.0</td>\n",
       "      <td>2</td>\n",
       "      <td>13</td>\n",
       "      <td>5</td>\n",
       "      <td>3</td>\n",
       "      <td>2016</td>\n",
       "    </tr>\n",
       "  </tbody>\n",
       "</table>\n",
       "</div>"
      ],
      "text/plain": [
       "      dropoff_datetime  dropoff_latitude  dropoff_longitude         id  \\\n",
       "0  2016-03-14 17:32:30         40.765602         -73.964630  id2875421   \n",
       "1  2016-06-12 00:54:38         40.731152         -73.999481  id2377394   \n",
       "2  2016-01-19 12:10:48         40.710087         -74.005333  id3858529   \n",
       "3  2016-04-06 19:39:40         40.706718         -74.012268  id3504673   \n",
       "4  2016-03-26 13:38:10         40.782520         -73.972923  id2181028   \n",
       "\n",
       "   passenger_count      pickup_datetime  pickup_latitude  pickup_longitude  \\\n",
       "0                1  2016-03-14 17:24:55        40.767937        -73.982155   \n",
       "1                1  2016-06-12 00:43:35        40.738564        -73.980415   \n",
       "2                1  2016-01-19 11:35:24        40.763939        -73.979027   \n",
       "3                1  2016-04-06 19:32:31        40.719971        -74.010040   \n",
       "4                1  2016-03-26 13:30:55        40.793209        -73.973053   \n",
       "\n",
       "  store_and_fwd_flag  trip_duration  vendor_id  hour  weekday  month  year  \n",
       "0                  N          455.0          2    17        0      3  2016  \n",
       "1                  N          663.0          1     0        6      6  2016  \n",
       "2                  N         2124.0          2    11        1      1  2016  \n",
       "3                  N          429.0          2    19        2      4  2016  \n",
       "4                  N          435.0          2    13        5      3  2016  "
      ]
     },
     "execution_count": 167,
     "metadata": {},
     "output_type": "execute_result"
    }
   ],
   "source": [
    "df.head()"
   ]
  },
  {
   "cell_type": "code",
   "execution_count": 168,
   "metadata": {
    "ExecuteTime": {
     "end_time": "2018-06-30T02:08:56.369395Z",
     "start_time": "2018-06-30T02:08:55.889265Z"
    }
   },
   "outputs": [
    {
     "name": "stdout",
     "output_type": "stream",
     "text": [
      "397.0 1075.0 678.0\n"
     ]
    },
    {
     "data": {
      "text/plain": [
       "47548"
      ]
     },
     "execution_count": 168,
     "metadata": {},
     "output_type": "execute_result"
    }
   ],
   "source": [
    "#There some abnormal data,get rid of them\n",
    "col='trip_duration'\n",
    "Q1 = np.percentile(df[col].dropna(), 25)\n",
    "# 3rd quartile (75%)\n",
    "Q3 = np.percentile(df[col].dropna(),75)\n",
    "# Interquartile range (IQR)\n",
    "IQR = Q3 - Q1\n",
    "\n",
    "print(Q1,Q3,IQR)\n",
    "\n",
    "# outlier step\n",
    "outlier_step = 2 * IQR\n",
    "\n",
    "# Determine a list of indices of outliers for feature col\n",
    "outlier_list_col = df[(df[col] < Q1 - outlier_step) | (df[col] > Q3 + outlier_step )].index\n",
    "\n",
    "# append the found outlier indices for col to the list of outlier indices \n",
    "len(outlier_list_col)"
   ]
  },
  {
   "cell_type": "code",
   "execution_count": 169,
   "metadata": {
    "ExecuteTime": {
     "end_time": "2018-06-30T02:08:56.835016Z",
     "start_time": "2018-06-30T02:08:56.372635Z"
    }
   },
   "outputs": [
    {
     "data": {
      "image/png": "[encoded data removed]",
      "text/plain": [
       "<matplotlib.figure.Figure at 0x2ae7293125f8>"
      ]
     },
     "metadata": {},
     "output_type": "display_data"
    }
   ],
   "source": [
    "plt.hist(df.trip_duration.dropna(),log=True)\n",
    "plt.show()"
   ]
  },
  {
   "cell_type": "code",
   "execution_count": 170,
   "metadata": {
    "ExecuteTime": {
     "end_time": "2018-06-30T02:08:56.841283Z",
     "start_time": "2018-06-30T02:08:56.837419Z"
    }
   },
   "outputs": [],
   "source": [
    "#df.drop(df[df.trip_duration>500000].index,inplace=True,axis=0)"
   ]
  },
  {
   "cell_type": "code",
   "execution_count": 171,
   "metadata": {
    "ExecuteTime": {
     "end_time": "2018-06-30T02:08:57.255358Z",
     "start_time": "2018-06-30T02:08:56.845246Z"
    }
   },
   "outputs": [
    {
     "data": {
      "image/png": "[encoded data removed]",
      "text/plain": [
       "<matplotlib.figure.Figure at 0x2ae69742ae10>"
      ]
     },
     "metadata": {},
     "output_type": "display_data"
    }
   ],
   "source": [
    "plt.hist(df.trip_duration.dropna(),bins=100)\n",
    "plt.xlabel(\"time\")\n",
    "plt.show()"
   ]
  },
  {
   "cell_type": "code",
   "execution_count": 172,
   "metadata": {
    "ExecuteTime": {
     "end_time": "2018-06-30T02:08:57.914026Z",
     "start_time": "2018-06-30T02:08:57.257358Z"
    }
   },
   "outputs": [
    {
     "data": {
      "image/png": "[encoded data removed]",
      "text/plain": [
       "<matplotlib.figure.Figure at 0x2ae697021c18>"
      ]
     },
     "metadata": {},
     "output_type": "display_data"
    }
   ],
   "source": [
    "#visulization\n",
    "plt.figure(figsize=(15,10))\n",
    "sns.boxplot(x=df.weekday,y=np.log(df.trip_duration))\n",
    "plt.show()"
   ]
  },
  {
   "cell_type": "code",
   "execution_count": 173,
   "metadata": {
    "ExecuteTime": {
     "end_time": "2018-06-30T02:08:58.805757Z",
     "start_time": "2018-06-30T02:08:57.915951Z"
    }
   },
   "outputs": [
    {
     "data": {
      "image/png": "[encoded data removed]",
      "text/plain": [
       "<matplotlib.figure.Figure at 0x2ae696c0fa20>"
      ]
     },
     "metadata": {},
     "output_type": "display_data"
    }
   ],
   "source": [
    "#visulization\n",
    "temp=df[df.trip_duration < 4000]\n",
    "plt.figure(figsize=(15,10))\n",
    "sns.boxplot(x=temp.weekday,y=temp.trip_duration)\n",
    "plt.show()"
   ]
  },
  {
   "cell_type": "code",
   "execution_count": 174,
   "metadata": {
    "ExecuteTime": {
     "end_time": "2018-06-30T02:09:20.950747Z",
     "start_time": "2018-06-30T02:08:58.807147Z"
    }
   },
   "outputs": [
    {
     "data": {
      "image/png": "[encoded data removed]",
      "text/plain": [
       "<matplotlib.figure.Figure at 0x2ae697314470>"
      ]
     },
     "metadata": {},
     "output_type": "display_data"
    }
   ],
   "source": [
    "sns.barplot(x=temp.weekday,y=temp.trip_duration)\n",
    "plt.show()"
   ]
  },
  {
   "cell_type": "code",
   "execution_count": 175,
   "metadata": {
    "ExecuteTime": {
     "end_time": "2018-06-30T02:09:20.956667Z",
     "start_time": "2018-06-30T02:09:20.952484Z"
    }
   },
   "outputs": [
    {
     "data": {
      "text/plain": [
       "Index(['dropoff_datetime', 'dropoff_latitude', 'dropoff_longitude', 'id',\n",
       "       'passenger_count', 'pickup_datetime', 'pickup_latitude',\n",
       "       'pickup_longitude', 'store_and_fwd_flag', 'trip_duration', 'vendor_id',\n",
       "       'hour', 'weekday', 'month', 'year'],\n",
       "      dtype='object')"
      ]
     },
     "execution_count": 175,
     "metadata": {},
     "output_type": "execute_result"
    }
   ],
   "source": [
    "df.columns"
   ]
  },
  {
   "cell_type": "code",
   "execution_count": 176,
   "metadata": {
    "ExecuteTime": {
     "end_time": "2018-06-30T02:09:21.010867Z",
     "start_time": "2018-06-30T02:09:20.958479Z"
    },
    "collapsed": true
   },
   "outputs": [],
   "source": [
    "df['det_lat']=np.abs(df['dropoff_latitude']-df['pickup_latitude'])\n",
    "df['det_lon']=np.abs(df['dropoff_longitude']-df['pickup_longitude'])\n",
    "\n",
    "df[\"det\"]=np.sqrt(np.square(df['det_lat'])+np.square(df['det_lon']))"
   ]
  },
  {
   "cell_type": "code",
   "execution_count": 177,
   "metadata": {
    "ExecuteTime": {
     "end_time": "2018-06-30T02:09:26.660685Z",
     "start_time": "2018-06-30T02:09:21.013317Z"
    }
   },
   "outputs": [
    {
     "data": {
      "image/png": "[encoded data removed]",
      "text/plain": [
       "<matplotlib.figure.Figure at 0x2ae695bf4860>"
      ]
     },
     "metadata": {},
     "output_type": "display_data"
    }
   ],
   "source": [
    "plt.figure(figsize=(10,10))\n",
    "plt.scatter(df['det'].values,df['trip_duration'].values,s=0.1)\n",
    "plt.xlim(0,2)\n",
    "plt.show()"
   ]
  },
  {
   "cell_type": "code",
   "execution_count": 178,
   "metadata": {
    "ExecuteTime": {
     "end_time": "2018-06-30T02:09:27.376412Z",
     "start_time": "2018-06-30T02:09:26.662076Z"
    }
   },
   "outputs": [
    {
     "data": {
      "image/png": "[encoded data removed]",
      "text/plain": [
       "<matplotlib.figure.Figure at 0x2ae693f72278>"
      ]
     },
     "metadata": {},
     "output_type": "display_data"
    }
   ],
   "source": [
    "plt.figure(figsize=(10,10))\n",
    "plt.hist(df['det'].values,bins=300,range=(0,0.3))\n",
    "plt.xlim(0,0.3)\n",
    "plt.xlabel(\"det X_titude\")\n",
    "plt.show()"
   ]
  },
  {
   "cell_type": "code",
   "execution_count": 179,
   "metadata": {
    "ExecuteTime": {
     "end_time": "2018-06-30T02:09:27.408812Z",
     "start_time": "2018-06-30T02:09:27.378238Z"
    }
   },
   "outputs": [
    {
     "data": {
      "text/html": [
       "<div>\n",
       "<style>\n",
       "    .dataframe thead tr:only-child th {\n",
       "        text-align: right;\n",
       "    }\n",
       "\n",
       "    .dataframe thead th {\n",
       "        text-align: left;\n",
       "    }\n",
       "\n",
       "    .dataframe tbody tr th {\n",
       "        vertical-align: top;\n",
       "    }\n",
       "</style>\n",
       "<table border=\"1\" class=\"dataframe\">\n",
       "  <thead>\n",
       "    <tr style=\"text-align: right;\">\n",
       "      <th></th>\n",
       "      <th>dropoff_datetime</th>\n",
       "      <th>dropoff_latitude</th>\n",
       "      <th>dropoff_longitude</th>\n",
       "      <th>id</th>\n",
       "      <th>passenger_count</th>\n",
       "      <th>pickup_datetime</th>\n",
       "      <th>pickup_latitude</th>\n",
       "      <th>pickup_longitude</th>\n",
       "      <th>store_and_fwd_flag</th>\n",
       "      <th>trip_duration</th>\n",
       "      <th>vendor_id</th>\n",
       "      <th>hour</th>\n",
       "      <th>weekday</th>\n",
       "      <th>month</th>\n",
       "      <th>year</th>\n",
       "      <th>det_lat</th>\n",
       "      <th>det_lon</th>\n",
       "      <th>det</th>\n",
       "    </tr>\n",
       "  </thead>\n",
       "  <tbody>\n",
       "    <tr>\n",
       "      <th>0</th>\n",
       "      <td>2016-03-14 17:32:30</td>\n",
       "      <td>40.765602</td>\n",
       "      <td>-73.964630</td>\n",
       "      <td>id2875421</td>\n",
       "      <td>1</td>\n",
       "      <td>2016-03-14 17:24:55</td>\n",
       "      <td>40.767937</td>\n",
       "      <td>-73.982155</td>\n",
       "      <td>N</td>\n",
       "      <td>455.0</td>\n",
       "      <td>2</td>\n",
       "      <td>17</td>\n",
       "      <td>0</td>\n",
       "      <td>3</td>\n",
       "      <td>2016</td>\n",
       "      <td>0.002335</td>\n",
       "      <td>0.017525</td>\n",
       "      <td>0.017680</td>\n",
       "    </tr>\n",
       "    <tr>\n",
       "      <th>1</th>\n",
       "      <td>2016-06-12 00:54:38</td>\n",
       "      <td>40.731152</td>\n",
       "      <td>-73.999481</td>\n",
       "      <td>id2377394</td>\n",
       "      <td>1</td>\n",
       "      <td>2016-06-12 00:43:35</td>\n",
       "      <td>40.738564</td>\n",
       "      <td>-73.980415</td>\n",
       "      <td>N</td>\n",
       "      <td>663.0</td>\n",
       "      <td>1</td>\n",
       "      <td>0</td>\n",
       "      <td>6</td>\n",
       "      <td>6</td>\n",
       "      <td>2016</td>\n",
       "      <td>0.007412</td>\n",
       "      <td>0.019066</td>\n",
       "      <td>0.020456</td>\n",
       "    </tr>\n",
       "    <tr>\n",
       "      <th>2</th>\n",
       "      <td>2016-01-19 12:10:48</td>\n",
       "      <td>40.710087</td>\n",
       "      <td>-74.005333</td>\n",
       "      <td>id3858529</td>\n",
       "      <td>1</td>\n",
       "      <td>2016-01-19 11:35:24</td>\n",
       "      <td>40.763939</td>\n",
       "      <td>-73.979027</td>\n",
       "      <td>N</td>\n",
       "      <td>2124.0</td>\n",
       "      <td>2</td>\n",
       "      <td>11</td>\n",
       "      <td>1</td>\n",
       "      <td>1</td>\n",
       "      <td>2016</td>\n",
       "      <td>0.053852</td>\n",
       "      <td>0.026306</td>\n",
       "      <td>0.059934</td>\n",
       "    </tr>\n",
       "    <tr>\n",
       "      <th>3</th>\n",
       "      <td>2016-04-06 19:39:40</td>\n",
       "      <td>40.706718</td>\n",
       "      <td>-74.012268</td>\n",
       "      <td>id3504673</td>\n",
       "      <td>1</td>\n",
       "      <td>2016-04-06 19:32:31</td>\n",
       "      <td>40.719971</td>\n",
       "      <td>-74.010040</td>\n",
       "      <td>N</td>\n",
       "      <td>429.0</td>\n",
       "      <td>2</td>\n",
       "      <td>19</td>\n",
       "      <td>2</td>\n",
       "      <td>4</td>\n",
       "      <td>2016</td>\n",
       "      <td>0.013252</td>\n",
       "      <td>0.002228</td>\n",
       "      <td>0.013438</td>\n",
       "    </tr>\n",
       "    <tr>\n",
       "      <th>4</th>\n",
       "      <td>2016-03-26 13:38:10</td>\n",
       "      <td>40.782520</td>\n",
       "      <td>-73.972923</td>\n",
       "      <td>id2181028</td>\n",
       "      <td>1</td>\n",
       "      <td>2016-03-26 13:30:55</td>\n",
       "      <td>40.793209</td>\n",
       "      <td>-73.973053</td>\n",
       "      <td>N</td>\n",
       "      <td>435.0</td>\n",
       "      <td>2</td>\n",
       "      <td>13</td>\n",
       "      <td>5</td>\n",
       "      <td>3</td>\n",
       "      <td>2016</td>\n",
       "      <td>0.010689</td>\n",
       "      <td>0.000130</td>\n",
       "      <td>0.010690</td>\n",
       "    </tr>\n",
       "  </tbody>\n",
       "</table>\n",
       "</div>"
      ],
      "text/plain": [
       "      dropoff_datetime  dropoff_latitude  dropoff_longitude         id  \\\n",
       "0  2016-03-14 17:32:30         40.765602         -73.964630  id2875421   \n",
       "1  2016-06-12 00:54:38         40.731152         -73.999481  id2377394   \n",
       "2  2016-01-19 12:10:48         40.710087         -74.005333  id3858529   \n",
       "3  2016-04-06 19:39:40         40.706718         -74.012268  id3504673   \n",
       "4  2016-03-26 13:38:10         40.782520         -73.972923  id2181028   \n",
       "\n",
       "   passenger_count      pickup_datetime  pickup_latitude  pickup_longitude  \\\n",
       "0                1  2016-03-14 17:24:55        40.767937        -73.982155   \n",
       "1                1  2016-06-12 00:43:35        40.738564        -73.980415   \n",
       "2                1  2016-01-19 11:35:24        40.763939        -73.979027   \n",
       "3                1  2016-04-06 19:32:31        40.719971        -74.010040   \n",
       "4                1  2016-03-26 13:30:55        40.793209        -73.973053   \n",
       "\n",
       "  store_and_fwd_flag  trip_duration  vendor_id  hour  weekday  month  year  \\\n",
       "0                  N          455.0          2    17        0      3  2016   \n",
       "1                  N          663.0          1     0        6      6  2016   \n",
       "2                  N         2124.0          2    11        1      1  2016   \n",
       "3                  N          429.0          2    19        2      4  2016   \n",
       "4                  N          435.0          2    13        5      3  2016   \n",
       "\n",
       "    det_lat   det_lon       det  \n",
       "0  0.002335  0.017525  0.017680  \n",
       "1  0.007412  0.019066  0.020456  \n",
       "2  0.053852  0.026306  0.059934  \n",
       "3  0.013252  0.002228  0.013438  \n",
       "4  0.010689  0.000130  0.010690  "
      ]
     },
     "execution_count": 179,
     "metadata": {},
     "output_type": "execute_result"
    }
   ],
   "source": [
    "df.head()"
   ]
  },
  {
   "cell_type": "code",
   "execution_count": 180,
   "metadata": {
    "ExecuteTime": {
     "end_time": "2018-06-30T02:09:32.168308Z",
     "start_time": "2018-06-30T02:09:27.410824Z"
    }
   },
   "outputs": [
    {
     "data": {
      "image/png": "[encoded data removed]",
      "text/plain": [
       "<matplotlib.figure.Figure at 0x2ae69a428fd0>"
      ]
     },
     "metadata": {},
     "output_type": "display_data"
    }
   ],
   "source": [
    "sns.violinplot(x=df[\"store_and_fwd_flag\"],y=np.log(df['trip_duration']),inner=\"quartile\")\n",
    "plt.grid()\n",
    "plt.show()"
   ]
  },
  {
   "cell_type": "code",
   "execution_count": 181,
   "metadata": {
    "ExecuteTime": {
     "end_time": "2018-06-30T02:09:33.312039Z",
     "start_time": "2018-06-30T02:09:32.169832Z"
    }
   },
   "outputs": [
    {
     "data": {
      "image/png": "[encoded data removed]",
      "text/plain": [
       "<matplotlib.figure.Figure at 0x2ae6e6441c88>"
      ]
     },
     "metadata": {},
     "output_type": "display_data"
    }
   ],
   "source": [
    "plt.figure(figsize=(30,10))\n",
    "sns.distplot(np.log(df[df[\"store_and_fwd_flag\"]=='N'].trip_duration.dropna()) )#,y=np.log(df['trip_duration']),inner=\"quartile\")\n",
    "#sns.distplot(df[df[\"store_and_fwd_flag\"]=='Y'].trip_duration.dropna()) \n",
    "plt.show()"
   ]
  },
  {
   "cell_type": "code",
   "execution_count": 182,
   "metadata": {
    "ExecuteTime": {
     "end_time": "2018-06-30T02:09:33.711488Z",
     "start_time": "2018-06-30T02:09:33.313357Z"
    }
   },
   "outputs": [
    {
     "data": {
      "image/png": "[encoded data removed]",
      "text/plain": [
       "<matplotlib.figure.Figure at 0x2ae6e64ffef0>"
      ]
     },
     "metadata": {},
     "output_type": "display_data"
    }
   ],
   "source": [
    "plt.figure(figsize=(30,10))\n",
    "#sns.distplot(df[df[\"store_and_fwd_flag\"]=='N'].trip_duration.dropna()) #,y=np.log(df['trip_duration']),inner=\"quartile\")\n",
    "sns.distplot(np.log(df[df[\"store_and_fwd_flag\"]=='Y'].trip_duration.dropna()) )\n",
    "plt.show()"
   ]
  },
  {
   "cell_type": "code",
   "execution_count": 183,
   "metadata": {
    "ExecuteTime": {
     "end_time": "2018-06-30T02:09:33.737537Z",
     "start_time": "2018-06-30T02:09:33.712767Z"
    }
   },
   "outputs": [
    {
     "data": {
      "text/html": [
       "<div>\n",
       "<style>\n",
       "    .dataframe thead tr:only-child th {\n",
       "        text-align: right;\n",
       "    }\n",
       "\n",
       "    .dataframe thead th {\n",
       "        text-align: left;\n",
       "    }\n",
       "\n",
       "    .dataframe tbody tr th {\n",
       "        vertical-align: top;\n",
       "    }\n",
       "</style>\n",
       "<table border=\"1\" class=\"dataframe\">\n",
       "  <thead>\n",
       "    <tr style=\"text-align: right;\">\n",
       "      <th></th>\n",
       "      <th>dropoff_datetime</th>\n",
       "      <th>dropoff_latitude</th>\n",
       "      <th>dropoff_longitude</th>\n",
       "      <th>id</th>\n",
       "      <th>passenger_count</th>\n",
       "      <th>pickup_datetime</th>\n",
       "      <th>pickup_latitude</th>\n",
       "      <th>pickup_longitude</th>\n",
       "      <th>store_and_fwd_flag</th>\n",
       "      <th>trip_duration</th>\n",
       "      <th>vendor_id</th>\n",
       "      <th>hour</th>\n",
       "      <th>weekday</th>\n",
       "      <th>month</th>\n",
       "      <th>year</th>\n",
       "      <th>det_lat</th>\n",
       "      <th>det_lon</th>\n",
       "      <th>det</th>\n",
       "    </tr>\n",
       "  </thead>\n",
       "  <tbody>\n",
       "    <tr>\n",
       "      <th>0</th>\n",
       "      <td>2016-03-14 17:32:30</td>\n",
       "      <td>40.765602</td>\n",
       "      <td>-73.964630</td>\n",
       "      <td>id2875421</td>\n",
       "      <td>1</td>\n",
       "      <td>2016-03-14 17:24:55</td>\n",
       "      <td>40.767937</td>\n",
       "      <td>-73.982155</td>\n",
       "      <td>N</td>\n",
       "      <td>455.0</td>\n",
       "      <td>2</td>\n",
       "      <td>17</td>\n",
       "      <td>0</td>\n",
       "      <td>3</td>\n",
       "      <td>2016</td>\n",
       "      <td>0.002335</td>\n",
       "      <td>0.017525</td>\n",
       "      <td>0.017680</td>\n",
       "    </tr>\n",
       "    <tr>\n",
       "      <th>1</th>\n",
       "      <td>2016-06-12 00:54:38</td>\n",
       "      <td>40.731152</td>\n",
       "      <td>-73.999481</td>\n",
       "      <td>id2377394</td>\n",
       "      <td>1</td>\n",
       "      <td>2016-06-12 00:43:35</td>\n",
       "      <td>40.738564</td>\n",
       "      <td>-73.980415</td>\n",
       "      <td>N</td>\n",
       "      <td>663.0</td>\n",
       "      <td>1</td>\n",
       "      <td>0</td>\n",
       "      <td>6</td>\n",
       "      <td>6</td>\n",
       "      <td>2016</td>\n",
       "      <td>0.007412</td>\n",
       "      <td>0.019066</td>\n",
       "      <td>0.020456</td>\n",
       "    </tr>\n",
       "    <tr>\n",
       "      <th>2</th>\n",
       "      <td>2016-01-19 12:10:48</td>\n",
       "      <td>40.710087</td>\n",
       "      <td>-74.005333</td>\n",
       "      <td>id3858529</td>\n",
       "      <td>1</td>\n",
       "      <td>2016-01-19 11:35:24</td>\n",
       "      <td>40.763939</td>\n",
       "      <td>-73.979027</td>\n",
       "      <td>N</td>\n",
       "      <td>2124.0</td>\n",
       "      <td>2</td>\n",
       "      <td>11</td>\n",
       "      <td>1</td>\n",
       "      <td>1</td>\n",
       "      <td>2016</td>\n",
       "      <td>0.053852</td>\n",
       "      <td>0.026306</td>\n",
       "      <td>0.059934</td>\n",
       "    </tr>\n",
       "    <tr>\n",
       "      <th>3</th>\n",
       "      <td>2016-04-06 19:39:40</td>\n",
       "      <td>40.706718</td>\n",
       "      <td>-74.012268</td>\n",
       "      <td>id3504673</td>\n",
       "      <td>1</td>\n",
       "      <td>2016-04-06 19:32:31</td>\n",
       "      <td>40.719971</td>\n",
       "      <td>-74.010040</td>\n",
       "      <td>N</td>\n",
       "      <td>429.0</td>\n",
       "      <td>2</td>\n",
       "      <td>19</td>\n",
       "      <td>2</td>\n",
       "      <td>4</td>\n",
       "      <td>2016</td>\n",
       "      <td>0.013252</td>\n",
       "      <td>0.002228</td>\n",
       "      <td>0.013438</td>\n",
       "    </tr>\n",
       "    <tr>\n",
       "      <th>4</th>\n",
       "      <td>2016-03-26 13:38:10</td>\n",
       "      <td>40.782520</td>\n",
       "      <td>-73.972923</td>\n",
       "      <td>id2181028</td>\n",
       "      <td>1</td>\n",
       "      <td>2016-03-26 13:30:55</td>\n",
       "      <td>40.793209</td>\n",
       "      <td>-73.973053</td>\n",
       "      <td>N</td>\n",
       "      <td>435.0</td>\n",
       "      <td>2</td>\n",
       "      <td>13</td>\n",
       "      <td>5</td>\n",
       "      <td>3</td>\n",
       "      <td>2016</td>\n",
       "      <td>0.010689</td>\n",
       "      <td>0.000130</td>\n",
       "      <td>0.010690</td>\n",
       "    </tr>\n",
       "  </tbody>\n",
       "</table>\n",
       "</div>"
      ],
      "text/plain": [
       "      dropoff_datetime  dropoff_latitude  dropoff_longitude         id  \\\n",
       "0  2016-03-14 17:32:30         40.765602         -73.964630  id2875421   \n",
       "1  2016-06-12 00:54:38         40.731152         -73.999481  id2377394   \n",
       "2  2016-01-19 12:10:48         40.710087         -74.005333  id3858529   \n",
       "3  2016-04-06 19:39:40         40.706718         -74.012268  id3504673   \n",
       "4  2016-03-26 13:38:10         40.782520         -73.972923  id2181028   \n",
       "\n",
       "   passenger_count      pickup_datetime  pickup_latitude  pickup_longitude  \\\n",
       "0                1  2016-03-14 17:24:55        40.767937        -73.982155   \n",
       "1                1  2016-06-12 00:43:35        40.738564        -73.980415   \n",
       "2                1  2016-01-19 11:35:24        40.763939        -73.979027   \n",
       "3                1  2016-04-06 19:32:31        40.719971        -74.010040   \n",
       "4                1  2016-03-26 13:30:55        40.793209        -73.973053   \n",
       "\n",
       "  store_and_fwd_flag  trip_duration  vendor_id  hour  weekday  month  year  \\\n",
       "0                  N          455.0          2    17        0      3  2016   \n",
       "1                  N          663.0          1     0        6      6  2016   \n",
       "2                  N         2124.0          2    11        1      1  2016   \n",
       "3                  N          429.0          2    19        2      4  2016   \n",
       "4                  N          435.0          2    13        5      3  2016   \n",
       "\n",
       "    det_lat   det_lon       det  \n",
       "0  0.002335  0.017525  0.017680  \n",
       "1  0.007412  0.019066  0.020456  \n",
       "2  0.053852  0.026306  0.059934  \n",
       "3  0.013252  0.002228  0.013438  \n",
       "4  0.010689  0.000130  0.010690  "
      ]
     },
     "execution_count": 183,
     "metadata": {},
     "output_type": "execute_result"
    }
   ],
   "source": [
    "df.head()"
   ]
  },
  {
   "cell_type": "code",
   "execution_count": 184,
   "metadata": {
    "ExecuteTime": {
     "end_time": "2018-06-30T02:09:33.816693Z",
     "start_time": "2018-06-30T02:09:33.740913Z"
    },
    "collapsed": true
   },
   "outputs": [],
   "source": [
    "# because the evaluation metric for this competition is Root Mean Squared Logarithmic Error.\n",
    "# change the tirp duration into log\n",
    "df.trip_duration=np.log(df.trip_duration+1)"
   ]
  },
  {
   "cell_type": "code",
   "execution_count": 185,
   "metadata": {
    "ExecuteTime": {
     "end_time": "2018-06-30T02:09:33.844216Z",
     "start_time": "2018-06-30T02:09:33.818567Z"
    }
   },
   "outputs": [
    {
     "data": {
      "text/html": [
       "<div>\n",
       "<style>\n",
       "    .dataframe thead tr:only-child th {\n",
       "        text-align: right;\n",
       "    }\n",
       "\n",
       "    .dataframe thead th {\n",
       "        text-align: left;\n",
       "    }\n",
       "\n",
       "    .dataframe tbody tr th {\n",
       "        vertical-align: top;\n",
       "    }\n",
       "</style>\n",
       "<table border=\"1\" class=\"dataframe\">\n",
       "  <thead>\n",
       "    <tr style=\"text-align: right;\">\n",
       "      <th></th>\n",
       "      <th>dropoff_datetime</th>\n",
       "      <th>dropoff_latitude</th>\n",
       "      <th>dropoff_longitude</th>\n",
       "      <th>id</th>\n",
       "      <th>passenger_count</th>\n",
       "      <th>pickup_datetime</th>\n",
       "      <th>pickup_latitude</th>\n",
       "      <th>pickup_longitude</th>\n",
       "      <th>store_and_fwd_flag</th>\n",
       "      <th>trip_duration</th>\n",
       "      <th>vendor_id</th>\n",
       "      <th>hour</th>\n",
       "      <th>weekday</th>\n",
       "      <th>month</th>\n",
       "      <th>year</th>\n",
       "      <th>det_lat</th>\n",
       "      <th>det_lon</th>\n",
       "      <th>det</th>\n",
       "    </tr>\n",
       "  </thead>\n",
       "  <tbody>\n",
       "    <tr>\n",
       "      <th>0</th>\n",
       "      <td>2016-03-14 17:32:30</td>\n",
       "      <td>40.765602</td>\n",
       "      <td>-73.964630</td>\n",
       "      <td>id2875421</td>\n",
       "      <td>1</td>\n",
       "      <td>2016-03-14 17:24:55</td>\n",
       "      <td>40.767937</td>\n",
       "      <td>-73.982155</td>\n",
       "      <td>N</td>\n",
       "      <td>6.120297</td>\n",
       "      <td>2</td>\n",
       "      <td>17</td>\n",
       "      <td>0</td>\n",
       "      <td>3</td>\n",
       "      <td>2016</td>\n",
       "      <td>0.002335</td>\n",
       "      <td>0.017525</td>\n",
       "      <td>0.017680</td>\n",
       "    </tr>\n",
       "    <tr>\n",
       "      <th>1</th>\n",
       "      <td>2016-06-12 00:54:38</td>\n",
       "      <td>40.731152</td>\n",
       "      <td>-73.999481</td>\n",
       "      <td>id2377394</td>\n",
       "      <td>1</td>\n",
       "      <td>2016-06-12 00:43:35</td>\n",
       "      <td>40.738564</td>\n",
       "      <td>-73.980415</td>\n",
       "      <td>N</td>\n",
       "      <td>6.496775</td>\n",
       "      <td>1</td>\n",
       "      <td>0</td>\n",
       "      <td>6</td>\n",
       "      <td>6</td>\n",
       "      <td>2016</td>\n",
       "      <td>0.007412</td>\n",
       "      <td>0.019066</td>\n",
       "      <td>0.020456</td>\n",
       "    </tr>\n",
       "    <tr>\n",
       "      <th>2</th>\n",
       "      <td>2016-01-19 12:10:48</td>\n",
       "      <td>40.710087</td>\n",
       "      <td>-74.005333</td>\n",
       "      <td>id3858529</td>\n",
       "      <td>1</td>\n",
       "      <td>2016-01-19 11:35:24</td>\n",
       "      <td>40.763939</td>\n",
       "      <td>-73.979027</td>\n",
       "      <td>N</td>\n",
       "      <td>7.661056</td>\n",
       "      <td>2</td>\n",
       "      <td>11</td>\n",
       "      <td>1</td>\n",
       "      <td>1</td>\n",
       "      <td>2016</td>\n",
       "      <td>0.053852</td>\n",
       "      <td>0.026306</td>\n",
       "      <td>0.059934</td>\n",
       "    </tr>\n",
       "    <tr>\n",
       "      <th>3</th>\n",
       "      <td>2016-04-06 19:39:40</td>\n",
       "      <td>40.706718</td>\n",
       "      <td>-74.012268</td>\n",
       "      <td>id3504673</td>\n",
       "      <td>1</td>\n",
       "      <td>2016-04-06 19:32:31</td>\n",
       "      <td>40.719971</td>\n",
       "      <td>-74.010040</td>\n",
       "      <td>N</td>\n",
       "      <td>6.061457</td>\n",
       "      <td>2</td>\n",
       "      <td>19</td>\n",
       "      <td>2</td>\n",
       "      <td>4</td>\n",
       "      <td>2016</td>\n",
       "      <td>0.013252</td>\n",
       "      <td>0.002228</td>\n",
       "      <td>0.013438</td>\n",
       "    </tr>\n",
       "    <tr>\n",
       "      <th>4</th>\n",
       "      <td>2016-03-26 13:38:10</td>\n",
       "      <td>40.782520</td>\n",
       "      <td>-73.972923</td>\n",
       "      <td>id2181028</td>\n",
       "      <td>1</td>\n",
       "      <td>2016-03-26 13:30:55</td>\n",
       "      <td>40.793209</td>\n",
       "      <td>-73.973053</td>\n",
       "      <td>N</td>\n",
       "      <td>6.075346</td>\n",
       "      <td>2</td>\n",
       "      <td>13</td>\n",
       "      <td>5</td>\n",
       "      <td>3</td>\n",
       "      <td>2016</td>\n",
       "      <td>0.010689</td>\n",
       "      <td>0.000130</td>\n",
       "      <td>0.010690</td>\n",
       "    </tr>\n",
       "  </tbody>\n",
       "</table>\n",
       "</div>"
      ],
      "text/plain": [
       "      dropoff_datetime  dropoff_latitude  dropoff_longitude         id  \\\n",
       "0  2016-03-14 17:32:30         40.765602         -73.964630  id2875421   \n",
       "1  2016-06-12 00:54:38         40.731152         -73.999481  id2377394   \n",
       "2  2016-01-19 12:10:48         40.710087         -74.005333  id3858529   \n",
       "3  2016-04-06 19:39:40         40.706718         -74.012268  id3504673   \n",
       "4  2016-03-26 13:38:10         40.782520         -73.972923  id2181028   \n",
       "\n",
       "   passenger_count      pickup_datetime  pickup_latitude  pickup_longitude  \\\n",
       "0                1  2016-03-14 17:24:55        40.767937        -73.982155   \n",
       "1                1  2016-06-12 00:43:35        40.738564        -73.980415   \n",
       "2                1  2016-01-19 11:35:24        40.763939        -73.979027   \n",
       "3                1  2016-04-06 19:32:31        40.719971        -74.010040   \n",
       "4                1  2016-03-26 13:30:55        40.793209        -73.973053   \n",
       "\n",
       "  store_and_fwd_flag  trip_duration  vendor_id  hour  weekday  month  year  \\\n",
       "0                  N       6.120297          2    17        0      3  2016   \n",
       "1                  N       6.496775          1     0        6      6  2016   \n",
       "2                  N       7.661056          2    11        1      1  2016   \n",
       "3                  N       6.061457          2    19        2      4  2016   \n",
       "4                  N       6.075346          2    13        5      3  2016   \n",
       "\n",
       "    det_lat   det_lon       det  \n",
       "0  0.002335  0.017525  0.017680  \n",
       "1  0.007412  0.019066  0.020456  \n",
       "2  0.053852  0.026306  0.059934  \n",
       "3  0.013252  0.002228  0.013438  \n",
       "4  0.010689  0.000130  0.010690  "
      ]
     },
     "execution_count": 185,
     "metadata": {},
     "output_type": "execute_result"
    }
   ],
   "source": [
    "df.head()"
   ]
  },
  {
   "cell_type": "code",
   "execution_count": 186,
   "metadata": {
    "ExecuteTime": {
     "end_time": "2018-06-30T02:09:33.860635Z",
     "start_time": "2018-06-30T02:09:33.846039Z"
    }
   },
   "outputs": [
    {
     "data": {
      "text/plain": [
       "dropoff_datetime       object\n",
       "dropoff_latitude      float64\n",
       "dropoff_longitude     float64\n",
       "id                     object\n",
       "passenger_count         int64\n",
       "pickup_datetime        object\n",
       "pickup_latitude       float64\n",
       "pickup_longitude      float64\n",
       "store_and_fwd_flag     object\n",
       "trip_duration         float64\n",
       "vendor_id               int64\n",
       "hour                    uint8\n",
       "weekday                 uint8\n",
       "month                   uint8\n",
       "year                   uint16\n",
       "det_lat               float64\n",
       "det_lon               float64\n",
       "det                   float64\n",
       "dtype: object"
      ]
     },
     "execution_count": 186,
     "metadata": {},
     "output_type": "execute_result"
    }
   ],
   "source": [
    "df.dtypes"
   ]
  },
  {
   "cell_type": "code",
   "execution_count": 187,
   "metadata": {
    "ExecuteTime": {
     "end_time": "2018-06-30T02:09:33.960156Z",
     "start_time": "2018-06-30T02:09:33.862575Z"
    }
   },
   "outputs": [],
   "source": [
    "df.drop(['dropoff_datetime','pickup_datetime','year'],inplace=True,axis=1)"
   ]
  },
  {
   "cell_type": "code",
   "execution_count": 188,
   "metadata": {
    "ExecuteTime": {
     "end_time": "2018-06-30T02:09:34.064459Z",
     "start_time": "2018-06-30T02:09:33.961987Z"
    }
   },
   "outputs": [],
   "source": [
    "df.drop(['dropoff_latitude','dropoff_longitude','pickup_latitude','pickup_longitude'],inplace=True,axis=1)"
   ]
  },
  {
   "cell_type": "code",
   "execution_count": 190,
   "metadata": {
    "ExecuteTime": {
     "end_time": "2018-06-30T02:09:44.309704Z",
     "start_time": "2018-06-30T02:09:44.275715Z"
    }
   },
   "outputs": [
    {
     "data": {
      "text/html": [
       "<div>\n",
       "<style>\n",
       "    .dataframe thead tr:only-child th {\n",
       "        text-align: right;\n",
       "    }\n",
       "\n",
       "    .dataframe thead th {\n",
       "        text-align: left;\n",
       "    }\n",
       "\n",
       "    .dataframe tbody tr th {\n",
       "        vertical-align: top;\n",
       "    }\n",
       "</style>\n",
       "<table border=\"1\" class=\"dataframe\">\n",
       "  <thead>\n",
       "    <tr style=\"text-align: right;\">\n",
       "      <th></th>\n",
       "      <th>id</th>\n",
       "      <th>passenger_count</th>\n",
       "      <th>store_and_fwd_flag</th>\n",
       "      <th>trip_duration</th>\n",
       "      <th>vendor_id</th>\n",
       "      <th>hour</th>\n",
       "      <th>weekday</th>\n",
       "      <th>month</th>\n",
       "      <th>det_lat</th>\n",
       "      <th>det_lon</th>\n",
       "      <th>det</th>\n",
       "    </tr>\n",
       "  </thead>\n",
       "  <tbody>\n",
       "    <tr>\n",
       "      <th>0</th>\n",
       "      <td>id2875421</td>\n",
       "      <td>1</td>\n",
       "      <td>N</td>\n",
       "      <td>6.120297</td>\n",
       "      <td>2</td>\n",
       "      <td>17</td>\n",
       "      <td>0</td>\n",
       "      <td>3</td>\n",
       "      <td>0.002335</td>\n",
       "      <td>0.017525</td>\n",
       "      <td>0.017680</td>\n",
       "    </tr>\n",
       "    <tr>\n",
       "      <th>1</th>\n",
       "      <td>id2377394</td>\n",
       "      <td>1</td>\n",
       "      <td>N</td>\n",
       "      <td>6.496775</td>\n",
       "      <td>1</td>\n",
       "      <td>0</td>\n",
       "      <td>6</td>\n",
       "      <td>6</td>\n",
       "      <td>0.007412</td>\n",
       "      <td>0.019066</td>\n",
       "      <td>0.020456</td>\n",
       "    </tr>\n",
       "    <tr>\n",
       "      <th>2</th>\n",
       "      <td>id3858529</td>\n",
       "      <td>1</td>\n",
       "      <td>N</td>\n",
       "      <td>7.661056</td>\n",
       "      <td>2</td>\n",
       "      <td>11</td>\n",
       "      <td>1</td>\n",
       "      <td>1</td>\n",
       "      <td>0.053852</td>\n",
       "      <td>0.026306</td>\n",
       "      <td>0.059934</td>\n",
       "    </tr>\n",
       "    <tr>\n",
       "      <th>3</th>\n",
       "      <td>id3504673</td>\n",
       "      <td>1</td>\n",
       "      <td>N</td>\n",
       "      <td>6.061457</td>\n",
       "      <td>2</td>\n",
       "      <td>19</td>\n",
       "      <td>2</td>\n",
       "      <td>4</td>\n",
       "      <td>0.013252</td>\n",
       "      <td>0.002228</td>\n",
       "      <td>0.013438</td>\n",
       "    </tr>\n",
       "    <tr>\n",
       "      <th>4</th>\n",
       "      <td>id2181028</td>\n",
       "      <td>1</td>\n",
       "      <td>N</td>\n",
       "      <td>6.075346</td>\n",
       "      <td>2</td>\n",
       "      <td>13</td>\n",
       "      <td>5</td>\n",
       "      <td>3</td>\n",
       "      <td>0.010689</td>\n",
       "      <td>0.000130</td>\n",
       "      <td>0.010690</td>\n",
       "    </tr>\n",
       "  </tbody>\n",
       "</table>\n",
       "</div>"
      ],
      "text/plain": [
       "          id  passenger_count store_and_fwd_flag  trip_duration  vendor_id  \\\n",
       "0  id2875421                1                  N       6.120297          2   \n",
       "1  id2377394                1                  N       6.496775          1   \n",
       "2  id3858529                1                  N       7.661056          2   \n",
       "3  id3504673                1                  N       6.061457          2   \n",
       "4  id2181028                1                  N       6.075346          2   \n",
       "\n",
       "   hour  weekday  month   det_lat   det_lon       det  \n",
       "0    17        0      3  0.002335  0.017525  0.017680  \n",
       "1     0        6      6  0.007412  0.019066  0.020456  \n",
       "2    11        1      1  0.053852  0.026306  0.059934  \n",
       "3    19        2      4  0.013252  0.002228  0.013438  \n",
       "4    13        5      3  0.010689  0.000130  0.010690  "
      ]
     },
     "execution_count": 190,
     "metadata": {},
     "output_type": "execute_result"
    }
   ],
   "source": [
    "df.head()"
   ]
  },
  {
   "cell_type": "code",
   "execution_count": 191,
   "metadata": {
    "ExecuteTime": {
     "end_time": "2018-06-30T02:09:44.986756Z",
     "start_time": "2018-06-30T02:09:44.964304Z"
    }
   },
   "outputs": [
    {
     "data": {
      "text/plain": [
       "id                     object\n",
       "passenger_count         int64\n",
       "store_and_fwd_flag     object\n",
       "trip_duration         float64\n",
       "vendor_id               int64\n",
       "hour                    uint8\n",
       "weekday                 uint8\n",
       "month                   uint8\n",
       "det_lat               float64\n",
       "det_lon               float64\n",
       "det                   float64\n",
       "dtype: object"
      ]
     },
     "execution_count": 191,
     "metadata": {},
     "output_type": "execute_result"
    }
   ],
   "source": [
    "df.dtypes"
   ]
  },
  {
   "cell_type": "code",
   "execution_count": 192,
   "metadata": {
    "ExecuteTime": {
     "end_time": "2018-06-30T02:09:45.723382Z",
     "start_time": "2018-06-30T02:09:45.693460Z"
    }
   },
   "outputs": [
    {
     "data": {
      "text/plain": [
       "array([2, 1])"
      ]
     },
     "execution_count": 192,
     "metadata": {},
     "output_type": "execute_result"
    }
   ],
   "source": [
    "df.vendor_id.unique()"
   ]
  },
  {
   "cell_type": "code",
   "execution_count": 201,
   "metadata": {
    "ExecuteTime": {
     "end_time": "2018-06-30T02:11:07.097519Z",
     "start_time": "2018-06-30T02:11:06.679879Z"
    }
   },
   "outputs": [
    {
     "data": {
      "text/html": [
       "<div>\n",
       "<style>\n",
       "    .dataframe thead tr:only-child th {\n",
       "        text-align: right;\n",
       "    }\n",
       "\n",
       "    .dataframe thead th {\n",
       "        text-align: left;\n",
       "    }\n",
       "\n",
       "    .dataframe tbody tr th {\n",
       "        vertical-align: top;\n",
       "    }\n",
       "</style>\n",
       "<table border=\"1\" class=\"dataframe\">\n",
       "  <thead>\n",
       "    <tr style=\"text-align: right;\">\n",
       "      <th></th>\n",
       "      <th>id</th>\n",
       "      <th>passenger_count</th>\n",
       "      <th>trip_duration</th>\n",
       "      <th>det_lat</th>\n",
       "      <th>det_lon</th>\n",
       "      <th>det</th>\n",
       "      <th>store_and_fwd_flag_N</th>\n",
       "      <th>store_and_fwd_flag_Y</th>\n",
       "      <th>vendor_id_1</th>\n",
       "      <th>vendor_id_2</th>\n",
       "      <th>...</th>\n",
       "      <th>hour_14</th>\n",
       "      <th>hour_15</th>\n",
       "      <th>hour_16</th>\n",
       "      <th>hour_17</th>\n",
       "      <th>hour_18</th>\n",
       "      <th>hour_19</th>\n",
       "      <th>hour_20</th>\n",
       "      <th>hour_21</th>\n",
       "      <th>hour_22</th>\n",
       "      <th>hour_23</th>\n",
       "    </tr>\n",
       "  </thead>\n",
       "  <tbody>\n",
       "    <tr>\n",
       "      <th>0</th>\n",
       "      <td>id2875421</td>\n",
       "      <td>1</td>\n",
       "      <td>6.120297</td>\n",
       "      <td>0.002335</td>\n",
       "      <td>0.017525</td>\n",
       "      <td>0.017680</td>\n",
       "      <td>1</td>\n",
       "      <td>0</td>\n",
       "      <td>0</td>\n",
       "      <td>1</td>\n",
       "      <td>...</td>\n",
       "      <td>0</td>\n",
       "      <td>0</td>\n",
       "      <td>0</td>\n",
       "      <td>1</td>\n",
       "      <td>0</td>\n",
       "      <td>0</td>\n",
       "      <td>0</td>\n",
       "      <td>0</td>\n",
       "      <td>0</td>\n",
       "      <td>0</td>\n",
       "    </tr>\n",
       "    <tr>\n",
       "      <th>1</th>\n",
       "      <td>id2377394</td>\n",
       "      <td>1</td>\n",
       "      <td>6.496775</td>\n",
       "      <td>0.007412</td>\n",
       "      <td>0.019066</td>\n",
       "      <td>0.020456</td>\n",
       "      <td>1</td>\n",
       "      <td>0</td>\n",
       "      <td>1</td>\n",
       "      <td>0</td>\n",
       "      <td>...</td>\n",
       "      <td>0</td>\n",
       "      <td>0</td>\n",
       "      <td>0</td>\n",
       "      <td>0</td>\n",
       "      <td>0</td>\n",
       "      <td>0</td>\n",
       "      <td>0</td>\n",
       "      <td>0</td>\n",
       "      <td>0</td>\n",
       "      <td>0</td>\n",
       "    </tr>\n",
       "    <tr>\n",
       "      <th>2</th>\n",
       "      <td>id3858529</td>\n",
       "      <td>1</td>\n",
       "      <td>7.661056</td>\n",
       "      <td>0.053852</td>\n",
       "      <td>0.026306</td>\n",
       "      <td>0.059934</td>\n",
       "      <td>1</td>\n",
       "      <td>0</td>\n",
       "      <td>0</td>\n",
       "      <td>1</td>\n",
       "      <td>...</td>\n",
       "      <td>0</td>\n",
       "      <td>0</td>\n",
       "      <td>0</td>\n",
       "      <td>0</td>\n",
       "      <td>0</td>\n",
       "      <td>0</td>\n",
       "      <td>0</td>\n",
       "      <td>0</td>\n",
       "      <td>0</td>\n",
       "      <td>0</td>\n",
       "    </tr>\n",
       "    <tr>\n",
       "      <th>3</th>\n",
       "      <td>id3504673</td>\n",
       "      <td>1</td>\n",
       "      <td>6.061457</td>\n",
       "      <td>0.013252</td>\n",
       "      <td>0.002228</td>\n",
       "      <td>0.013438</td>\n",
       "      <td>1</td>\n",
       "      <td>0</td>\n",
       "      <td>0</td>\n",
       "      <td>1</td>\n",
       "      <td>...</td>\n",
       "      <td>0</td>\n",
       "      <td>0</td>\n",
       "      <td>0</td>\n",
       "      <td>0</td>\n",
       "      <td>0</td>\n",
       "      <td>1</td>\n",
       "      <td>0</td>\n",
       "      <td>0</td>\n",
       "      <td>0</td>\n",
       "      <td>0</td>\n",
       "    </tr>\n",
       "    <tr>\n",
       "      <th>4</th>\n",
       "      <td>id2181028</td>\n",
       "      <td>1</td>\n",
       "      <td>6.075346</td>\n",
       "      <td>0.010689</td>\n",
       "      <td>0.000130</td>\n",
       "      <td>0.010690</td>\n",
       "      <td>1</td>\n",
       "      <td>0</td>\n",
       "      <td>0</td>\n",
       "      <td>1</td>\n",
       "      <td>...</td>\n",
       "      <td>0</td>\n",
       "      <td>0</td>\n",
       "      <td>0</td>\n",
       "      <td>0</td>\n",
       "      <td>0</td>\n",
       "      <td>0</td>\n",
       "      <td>0</td>\n",
       "      <td>0</td>\n",
       "      <td>0</td>\n",
       "      <td>0</td>\n",
       "    </tr>\n",
       "  </tbody>\n",
       "</table>\n",
       "<p>5 rows × 47 columns</p>\n",
       "</div>"
      ],
      "text/plain": [
       "          id  passenger_count  trip_duration   det_lat   det_lon       det  \\\n",
       "0  id2875421                1       6.120297  0.002335  0.017525  0.017680   \n",
       "1  id2377394                1       6.496775  0.007412  0.019066  0.020456   \n",
       "2  id3858529                1       7.661056  0.053852  0.026306  0.059934   \n",
       "3  id3504673                1       6.061457  0.013252  0.002228  0.013438   \n",
       "4  id2181028                1       6.075346  0.010689  0.000130  0.010690   \n",
       "\n",
       "   store_and_fwd_flag_N  store_and_fwd_flag_Y  vendor_id_1  vendor_id_2  \\\n",
       "0                     1                     0            0            1   \n",
       "1                     1                     0            1            0   \n",
       "2                     1                     0            0            1   \n",
       "3                     1                     0            0            1   \n",
       "4                     1                     0            0            1   \n",
       "\n",
       "    ...     hour_14  hour_15  hour_16  hour_17  hour_18  hour_19  hour_20  \\\n",
       "0   ...           0        0        0        1        0        0        0   \n",
       "1   ...           0        0        0        0        0        0        0   \n",
       "2   ...           0        0        0        0        0        0        0   \n",
       "3   ...           0        0        0        0        0        1        0   \n",
       "4   ...           0        0        0        0        0        0        0   \n",
       "\n",
       "   hour_21  hour_22  hour_23  \n",
       "0        0        0        0  \n",
       "1        0        0        0  \n",
       "2        0        0        0  \n",
       "3        0        0        0  \n",
       "4        0        0        0  \n",
       "\n",
       "[5 rows x 47 columns]"
      ]
     },
     "execution_count": 201,
     "metadata": {},
     "output_type": "execute_result"
    }
   ],
   "source": [
    "df=pd.get_dummies(df, columns=[\"store_and_fwd_flag\", \"vendor_id\",'weekday','month','hour'],)\n",
    "df.head()"
   ]
  },
  {
   "cell_type": "code",
   "execution_count": 202,
   "metadata": {
    "ExecuteTime": {
     "end_time": "2018-06-30T02:11:07.971620Z",
     "start_time": "2018-06-30T02:11:07.950521Z"
    },
    "collapsed": true
   },
   "outputs": [],
   "source": [
    "test=df[train_len:]"
   ]
  },
  {
   "cell_type": "code",
   "execution_count": 203,
   "metadata": {
    "ExecuteTime": {
     "end_time": "2018-06-30T02:11:08.556180Z",
     "start_time": "2018-06-30T02:11:08.499442Z"
    },
    "collapsed": true
   },
   "outputs": [],
   "source": [
    "train=df[:train_len]"
   ]
  },
  {
   "cell_type": "code",
   "execution_count": 204,
   "metadata": {
    "ExecuteTime": {
     "end_time": "2018-06-30T02:11:10.266005Z",
     "start_time": "2018-06-30T02:11:09.006251Z"
    }
   },
   "outputs": [
    {
     "name": "stdout",
     "output_type": "stream",
     "text": [
      "<class 'pandas.core.frame.DataFrame'>\n",
      "Int64Index: 1458644 entries, 0 to 1458643\n",
      "Data columns (total 47 columns):\n",
      "id                      1458644 non-null object\n",
      "passenger_count         1458644 non-null int64\n",
      "trip_duration           1458644 non-null float64\n",
      "det_lat                 1458644 non-null float64\n",
      "det_lon                 1458644 non-null float64\n",
      "det                     1458644 non-null float64\n",
      "store_and_fwd_flag_N    1458644 non-null uint8\n",
      "store_and_fwd_flag_Y    1458644 non-null uint8\n",
      "vendor_id_1             1458644 non-null uint8\n",
      "vendor_id_2             1458644 non-null uint8\n",
      "weekday_0               1458644 non-null uint8\n",
      "weekday_1               1458644 non-null uint8\n",
      "weekday_2               1458644 non-null uint8\n",
      "weekday_3               1458644 non-null uint8\n",
      "weekday_4               1458644 non-null uint8\n",
      "weekday_5               1458644 non-null uint8\n",
      "weekday_6               1458644 non-null uint8\n",
      "month_1                 1458644 non-null uint8\n",
      "month_2                 1458644 non-null uint8\n",
      "month_3                 1458644 non-null uint8\n",
      "month_4                 1458644 non-null uint8\n",
      "month_5                 1458644 non-null uint8\n",
      "month_6                 1458644 non-null uint8\n",
      "hour_0                  1458644 non-null uint8\n",
      "hour_1                  1458644 non-null uint8\n",
      "hour_2                  1458644 non-null uint8\n",
      "hour_3                  1458644 non-null uint8\n",
      "hour_4                  1458644 non-null uint8\n",
      "hour_5                  1458644 non-null uint8\n",
      "hour_6                  1458644 non-null uint8\n",
      "hour_7                  1458644 non-null uint8\n",
      "hour_8                  1458644 non-null uint8\n",
      "hour_9                  1458644 non-null uint8\n",
      "hour_10                 1458644 non-null uint8\n",
      "hour_11                 1458644 non-null uint8\n",
      "hour_12                 1458644 non-null uint8\n",
      "hour_13                 1458644 non-null uint8\n",
      "hour_14                 1458644 non-null uint8\n",
      "hour_15                 1458644 non-null uint8\n",
      "hour_16                 1458644 non-null uint8\n",
      "hour_17                 1458644 non-null uint8\n",
      "hour_18                 1458644 non-null uint8\n",
      "hour_19                 1458644 non-null uint8\n",
      "hour_20                 1458644 non-null uint8\n",
      "hour_21                 1458644 non-null uint8\n",
      "hour_22                 1458644 non-null uint8\n",
      "hour_23                 1458644 non-null uint8\n",
      "dtypes: float64(4), int64(1), object(1), uint8(41)\n",
      "memory usage: 134.9+ MB\n"
     ]
    }
   ],
   "source": [
    "train.info()"
   ]
  },
  {
   "cell_type": "code",
   "execution_count": 205,
   "metadata": {
    "ExecuteTime": {
     "end_time": "2018-06-30T02:11:10.748253Z",
     "start_time": "2018-06-30T02:11:10.267599Z"
    }
   },
   "outputs": [
    {
     "name": "stdout",
     "output_type": "stream",
     "text": [
      "<class 'pandas.core.frame.DataFrame'>\n",
      "Int64Index: 625134 entries, 0 to 625133\n",
      "Data columns (total 47 columns):\n",
      "id                      625134 non-null object\n",
      "passenger_count         625134 non-null int64\n",
      "trip_duration           0 non-null float64\n",
      "det_lat                 625134 non-null float64\n",
      "det_lon                 625134 non-null float64\n",
      "det                     625134 non-null float64\n",
      "store_and_fwd_flag_N    625134 non-null uint8\n",
      "store_and_fwd_flag_Y    625134 non-null uint8\n",
      "vendor_id_1             625134 non-null uint8\n",
      "vendor_id_2             625134 non-null uint8\n",
      "weekday_0               625134 non-null uint8\n",
      "weekday_1               625134 non-null uint8\n",
      "weekday_2               625134 non-null uint8\n",
      "weekday_3               625134 non-null uint8\n",
      "weekday_4               625134 non-null uint8\n",
      "weekday_5               625134 non-null uint8\n",
      "weekday_6               625134 non-null uint8\n",
      "month_1                 625134 non-null uint8\n",
      "month_2                 625134 non-null uint8\n",
      "month_3                 625134 non-null uint8\n",
      "month_4                 625134 non-null uint8\n",
      "month_5                 625134 non-null uint8\n",
      "month_6                 625134 non-null uint8\n",
      "hour_0                  625134 non-null uint8\n",
      "hour_1                  625134 non-null uint8\n",
      "hour_2                  625134 non-null uint8\n",
      "hour_3                  625134 non-null uint8\n",
      "hour_4                  625134 non-null uint8\n",
      "hour_5                  625134 non-null uint8\n",
      "hour_6                  625134 non-null uint8\n",
      "hour_7                  625134 non-null uint8\n",
      "hour_8                  625134 non-null uint8\n",
      "hour_9                  625134 non-null uint8\n",
      "hour_10                 625134 non-null uint8\n",
      "hour_11                 625134 non-null uint8\n",
      "hour_12                 625134 non-null uint8\n",
      "hour_13                 625134 non-null uint8\n",
      "hour_14                 625134 non-null uint8\n",
      "hour_15                 625134 non-null uint8\n",
      "hour_16                 625134 non-null uint8\n",
      "hour_17                 625134 non-null uint8\n",
      "hour_18                 625134 non-null uint8\n",
      "hour_19                 625134 non-null uint8\n",
      "hour_20                 625134 non-null uint8\n",
      "hour_21                 625134 non-null uint8\n",
      "hour_22                 625134 non-null uint8\n",
      "hour_23                 625134 non-null uint8\n",
      "dtypes: float64(4), int64(1), object(1), uint8(41)\n",
      "memory usage: 57.8+ MB\n"
     ]
    }
   ],
   "source": [
    "test.info()"
   ]
  },
  {
   "cell_type": "code",
   "execution_count": 206,
   "metadata": {
    "ExecuteTime": {
     "end_time": "2018-06-30T02:11:11.160245Z",
     "start_time": "2018-06-30T02:11:10.750356Z"
    }
   },
   "outputs": [
    {
     "name": "stderr",
     "output_type": "stream",
     "text": [
      "/home/fafun/anaconda3/lib/python3.6/site-packages/ipykernel_launcher.py:1: SettingWithCopyWarning:\n",
      "\n",
      "\n",
      "A value is trying to be set on a copy of a slice from a DataFrame\n",
      "\n",
      "See the caveats in the documentation: http://pandas.pydata.org/pandas-docs/stable/indexing.html#indexing-view-versus-copy\n",
      "\n",
      "/home/fafun/anaconda3/lib/python3.6/site-packages/ipykernel_launcher.py:3: SettingWithCopyWarning:\n",
      "\n",
      "\n",
      "A value is trying to be set on a copy of a slice from a DataFrame\n",
      "\n",
      "See the caveats in the documentation: http://pandas.pydata.org/pandas-docs/stable/indexing.html#indexing-view-versus-copy\n",
      "\n"
     ]
    }
   ],
   "source": [
    "train.drop(\"id\",inplace=True,axis=1)\n",
    "idp=test.id\n",
    "test.drop(['id','trip_duration'],inplace=True,axis=1)"
   ]
  },
  {
   "cell_type": "code",
   "execution_count": 207,
   "metadata": {
    "ExecuteTime": {
     "end_time": "2018-06-30T02:11:11.169990Z",
     "start_time": "2018-06-30T02:11:11.163663Z"
    }
   },
   "outputs": [
    {
     "data": {
      "text/plain": [
       "0    id3004672\n",
       "1    id3505355\n",
       "2    id1217141\n",
       "3    id2150126\n",
       "4    id1598245\n",
       "Name: id, dtype: object"
      ]
     },
     "execution_count": 207,
     "metadata": {},
     "output_type": "execute_result"
    }
   ],
   "source": [
    "idp.head()"
   ]
  },
  {
   "cell_type": "code",
   "execution_count": 208,
   "metadata": {
    "ExecuteTime": {
     "end_time": "2018-06-30T02:11:12.109467Z",
     "start_time": "2018-06-30T02:11:12.030426Z"
    }
   },
   "outputs": [
    {
     "data": {
      "text/html": [
       "<div>\n",
       "<style>\n",
       "    .dataframe thead tr:only-child th {\n",
       "        text-align: right;\n",
       "    }\n",
       "\n",
       "    .dataframe thead th {\n",
       "        text-align: left;\n",
       "    }\n",
       "\n",
       "    .dataframe tbody tr th {\n",
       "        vertical-align: top;\n",
       "    }\n",
       "</style>\n",
       "<table border=\"1\" class=\"dataframe\">\n",
       "  <thead>\n",
       "    <tr style=\"text-align: right;\">\n",
       "      <th></th>\n",
       "      <th>passenger_count</th>\n",
       "      <th>det_lat</th>\n",
       "      <th>det_lon</th>\n",
       "      <th>det</th>\n",
       "      <th>store_and_fwd_flag_N</th>\n",
       "      <th>store_and_fwd_flag_Y</th>\n",
       "      <th>vendor_id_1</th>\n",
       "      <th>vendor_id_2</th>\n",
       "      <th>weekday_0</th>\n",
       "      <th>weekday_1</th>\n",
       "      <th>...</th>\n",
       "      <th>hour_14</th>\n",
       "      <th>hour_15</th>\n",
       "      <th>hour_16</th>\n",
       "      <th>hour_17</th>\n",
       "      <th>hour_18</th>\n",
       "      <th>hour_19</th>\n",
       "      <th>hour_20</th>\n",
       "      <th>hour_21</th>\n",
       "      <th>hour_22</th>\n",
       "      <th>hour_23</th>\n",
       "    </tr>\n",
       "  </thead>\n",
       "  <tbody>\n",
       "    <tr>\n",
       "      <th>0</th>\n",
       "      <td>1</td>\n",
       "      <td>0.024651</td>\n",
       "      <td>0.002045</td>\n",
       "      <td>0.024735</td>\n",
       "      <td>1</td>\n",
       "      <td>0</td>\n",
       "      <td>1</td>\n",
       "      <td>0</td>\n",
       "      <td>0</td>\n",
       "      <td>0</td>\n",
       "      <td>...</td>\n",
       "      <td>0</td>\n",
       "      <td>0</td>\n",
       "      <td>0</td>\n",
       "      <td>0</td>\n",
       "      <td>0</td>\n",
       "      <td>0</td>\n",
       "      <td>0</td>\n",
       "      <td>0</td>\n",
       "      <td>0</td>\n",
       "      <td>1</td>\n",
       "    </tr>\n",
       "    <tr>\n",
       "      <th>1</th>\n",
       "      <td>1</td>\n",
       "      <td>0.024590</td>\n",
       "      <td>0.004395</td>\n",
       "      <td>0.024979</td>\n",
       "      <td>1</td>\n",
       "      <td>0</td>\n",
       "      <td>1</td>\n",
       "      <td>0</td>\n",
       "      <td>0</td>\n",
       "      <td>0</td>\n",
       "      <td>...</td>\n",
       "      <td>0</td>\n",
       "      <td>0</td>\n",
       "      <td>0</td>\n",
       "      <td>0</td>\n",
       "      <td>0</td>\n",
       "      <td>0</td>\n",
       "      <td>0</td>\n",
       "      <td>0</td>\n",
       "      <td>0</td>\n",
       "      <td>1</td>\n",
       "    </tr>\n",
       "    <tr>\n",
       "      <th>2</th>\n",
       "      <td>1</td>\n",
       "      <td>0.008060</td>\n",
       "      <td>0.011276</td>\n",
       "      <td>0.013861</td>\n",
       "      <td>1</td>\n",
       "      <td>0</td>\n",
       "      <td>1</td>\n",
       "      <td>0</td>\n",
       "      <td>0</td>\n",
       "      <td>0</td>\n",
       "      <td>...</td>\n",
       "      <td>0</td>\n",
       "      <td>0</td>\n",
       "      <td>0</td>\n",
       "      <td>0</td>\n",
       "      <td>0</td>\n",
       "      <td>0</td>\n",
       "      <td>0</td>\n",
       "      <td>0</td>\n",
       "      <td>0</td>\n",
       "      <td>1</td>\n",
       "    </tr>\n",
       "    <tr>\n",
       "      <th>3</th>\n",
       "      <td>1</td>\n",
       "      <td>0.041431</td>\n",
       "      <td>0.030357</td>\n",
       "      <td>0.051363</td>\n",
       "      <td>1</td>\n",
       "      <td>0</td>\n",
       "      <td>0</td>\n",
       "      <td>1</td>\n",
       "      <td>0</td>\n",
       "      <td>0</td>\n",
       "      <td>...</td>\n",
       "      <td>0</td>\n",
       "      <td>0</td>\n",
       "      <td>0</td>\n",
       "      <td>0</td>\n",
       "      <td>0</td>\n",
       "      <td>0</td>\n",
       "      <td>0</td>\n",
       "      <td>0</td>\n",
       "      <td>0</td>\n",
       "      <td>1</td>\n",
       "    </tr>\n",
       "    <tr>\n",
       "      <th>4</th>\n",
       "      <td>1</td>\n",
       "      <td>0.005585</td>\n",
       "      <td>0.008705</td>\n",
       "      <td>0.010343</td>\n",
       "      <td>1</td>\n",
       "      <td>0</td>\n",
       "      <td>1</td>\n",
       "      <td>0</td>\n",
       "      <td>0</td>\n",
       "      <td>0</td>\n",
       "      <td>...</td>\n",
       "      <td>0</td>\n",
       "      <td>0</td>\n",
       "      <td>0</td>\n",
       "      <td>0</td>\n",
       "      <td>0</td>\n",
       "      <td>0</td>\n",
       "      <td>0</td>\n",
       "      <td>0</td>\n",
       "      <td>0</td>\n",
       "      <td>1</td>\n",
       "    </tr>\n",
       "  </tbody>\n",
       "</table>\n",
       "<p>5 rows × 45 columns</p>\n",
       "</div>"
      ],
      "text/plain": [
       "   passenger_count   det_lat   det_lon       det  store_and_fwd_flag_N  \\\n",
       "0                1  0.024651  0.002045  0.024735                     1   \n",
       "1                1  0.024590  0.004395  0.024979                     1   \n",
       "2                1  0.008060  0.011276  0.013861                     1   \n",
       "3                1  0.041431  0.030357  0.051363                     1   \n",
       "4                1  0.005585  0.008705  0.010343                     1   \n",
       "\n",
       "   store_and_fwd_flag_Y  vendor_id_1  vendor_id_2  weekday_0  weekday_1  \\\n",
       "0                     0            1            0          0          0   \n",
       "1                     0            1            0          0          0   \n",
       "2                     0            1            0          0          0   \n",
       "3                     0            0            1          0          0   \n",
       "4                     0            1            0          0          0   \n",
       "\n",
       "    ...     hour_14  hour_15  hour_16  hour_17  hour_18  hour_19  hour_20  \\\n",
       "0   ...           0        0        0        0        0        0        0   \n",
       "1   ...           0        0        0        0        0        0        0   \n",
       "2   ...           0        0        0        0        0        0        0   \n",
       "3   ...           0        0        0        0        0        0        0   \n",
       "4   ...           0        0        0        0        0        0        0   \n",
       "\n",
       "   hour_21  hour_22  hour_23  \n",
       "0        0        0        1  \n",
       "1        0        0        1  \n",
       "2        0        0        1  \n",
       "3        0        0        1  \n",
       "4        0        0        1  \n",
       "\n",
       "[5 rows x 45 columns]"
      ]
     },
     "execution_count": 208,
     "metadata": {},
     "output_type": "execute_result"
    }
   ],
   "source": [
    "test.head()"
   ]
  },
  {
   "cell_type": "code",
   "execution_count": 209,
   "metadata": {
    "ExecuteTime": {
     "end_time": "2018-06-30T02:12:32.295528Z",
     "start_time": "2018-06-30T02:12:32.272882Z"
    }
   },
   "outputs": [
    {
     "data": {
      "text/html": [
       "<div>\n",
       "<style>\n",
       "    .dataframe thead tr:only-child th {\n",
       "        text-align: right;\n",
       "    }\n",
       "\n",
       "    .dataframe thead th {\n",
       "        text-align: left;\n",
       "    }\n",
       "\n",
       "    .dataframe tbody tr th {\n",
       "        vertical-align: top;\n",
       "    }\n",
       "</style>\n",
       "<table border=\"1\" class=\"dataframe\">\n",
       "  <thead>\n",
       "    <tr style=\"text-align: right;\">\n",
       "      <th></th>\n",
       "      <th>passenger_count</th>\n",
       "      <th>trip_duration</th>\n",
       "      <th>det_lat</th>\n",
       "      <th>det_lon</th>\n",
       "      <th>det</th>\n",
       "      <th>store_and_fwd_flag_N</th>\n",
       "      <th>store_and_fwd_flag_Y</th>\n",
       "      <th>vendor_id_1</th>\n",
       "      <th>vendor_id_2</th>\n",
       "      <th>weekday_0</th>\n",
       "      <th>...</th>\n",
       "      <th>hour_14</th>\n",
       "      <th>hour_15</th>\n",
       "      <th>hour_16</th>\n",
       "      <th>hour_17</th>\n",
       "      <th>hour_18</th>\n",
       "      <th>hour_19</th>\n",
       "      <th>hour_20</th>\n",
       "      <th>hour_21</th>\n",
       "      <th>hour_22</th>\n",
       "      <th>hour_23</th>\n",
       "    </tr>\n",
       "  </thead>\n",
       "  <tbody>\n",
       "    <tr>\n",
       "      <th>0</th>\n",
       "      <td>1</td>\n",
       "      <td>6.120297</td>\n",
       "      <td>0.002335</td>\n",
       "      <td>0.017525</td>\n",
       "      <td>0.017680</td>\n",
       "      <td>1</td>\n",
       "      <td>0</td>\n",
       "      <td>0</td>\n",
       "      <td>1</td>\n",
       "      <td>1</td>\n",
       "      <td>...</td>\n",
       "      <td>0</td>\n",
       "      <td>0</td>\n",
       "      <td>0</td>\n",
       "      <td>1</td>\n",
       "      <td>0</td>\n",
       "      <td>0</td>\n",
       "      <td>0</td>\n",
       "      <td>0</td>\n",
       "      <td>0</td>\n",
       "      <td>0</td>\n",
       "    </tr>\n",
       "    <tr>\n",
       "      <th>1</th>\n",
       "      <td>1</td>\n",
       "      <td>6.496775</td>\n",
       "      <td>0.007412</td>\n",
       "      <td>0.019066</td>\n",
       "      <td>0.020456</td>\n",
       "      <td>1</td>\n",
       "      <td>0</td>\n",
       "      <td>1</td>\n",
       "      <td>0</td>\n",
       "      <td>0</td>\n",
       "      <td>...</td>\n",
       "      <td>0</td>\n",
       "      <td>0</td>\n",
       "      <td>0</td>\n",
       "      <td>0</td>\n",
       "      <td>0</td>\n",
       "      <td>0</td>\n",
       "      <td>0</td>\n",
       "      <td>0</td>\n",
       "      <td>0</td>\n",
       "      <td>0</td>\n",
       "    </tr>\n",
       "    <tr>\n",
       "      <th>2</th>\n",
       "      <td>1</td>\n",
       "      <td>7.661056</td>\n",
       "      <td>0.053852</td>\n",
       "      <td>0.026306</td>\n",
       "      <td>0.059934</td>\n",
       "      <td>1</td>\n",
       "      <td>0</td>\n",
       "      <td>0</td>\n",
       "      <td>1</td>\n",
       "      <td>0</td>\n",
       "      <td>...</td>\n",
       "      <td>0</td>\n",
       "      <td>0</td>\n",
       "      <td>0</td>\n",
       "      <td>0</td>\n",
       "      <td>0</td>\n",
       "      <td>0</td>\n",
       "      <td>0</td>\n",
       "      <td>0</td>\n",
       "      <td>0</td>\n",
       "      <td>0</td>\n",
       "    </tr>\n",
       "    <tr>\n",
       "      <th>3</th>\n",
       "      <td>1</td>\n",
       "      <td>6.061457</td>\n",
       "      <td>0.013252</td>\n",
       "      <td>0.002228</td>\n",
       "      <td>0.013438</td>\n",
       "      <td>1</td>\n",
       "      <td>0</td>\n",
       "      <td>0</td>\n",
       "      <td>1</td>\n",
       "      <td>0</td>\n",
       "      <td>...</td>\n",
       "      <td>0</td>\n",
       "      <td>0</td>\n",
       "      <td>0</td>\n",
       "      <td>0</td>\n",
       "      <td>0</td>\n",
       "      <td>1</td>\n",
       "      <td>0</td>\n",
       "      <td>0</td>\n",
       "      <td>0</td>\n",
       "      <td>0</td>\n",
       "    </tr>\n",
       "    <tr>\n",
       "      <th>4</th>\n",
       "      <td>1</td>\n",
       "      <td>6.075346</td>\n",
       "      <td>0.010689</td>\n",
       "      <td>0.000130</td>\n",
       "      <td>0.010690</td>\n",
       "      <td>1</td>\n",
       "      <td>0</td>\n",
       "      <td>0</td>\n",
       "      <td>1</td>\n",
       "      <td>0</td>\n",
       "      <td>...</td>\n",
       "      <td>0</td>\n",
       "      <td>0</td>\n",
       "      <td>0</td>\n",
       "      <td>0</td>\n",
       "      <td>0</td>\n",
       "      <td>0</td>\n",
       "      <td>0</td>\n",
       "      <td>0</td>\n",
       "      <td>0</td>\n",
       "      <td>0</td>\n",
       "    </tr>\n",
       "  </tbody>\n",
       "</table>\n",
       "<p>5 rows × 46 columns</p>\n",
       "</div>"
      ],
      "text/plain": [
       "   passenger_count  trip_duration   det_lat   det_lon       det  \\\n",
       "0                1       6.120297  0.002335  0.017525  0.017680   \n",
       "1                1       6.496775  0.007412  0.019066  0.020456   \n",
       "2                1       7.661056  0.053852  0.026306  0.059934   \n",
       "3                1       6.061457  0.013252  0.002228  0.013438   \n",
       "4                1       6.075346  0.010689  0.000130  0.010690   \n",
       "\n",
       "   store_and_fwd_flag_N  store_and_fwd_flag_Y  vendor_id_1  vendor_id_2  \\\n",
       "0                     1                     0            0            1   \n",
       "1                     1                     0            1            0   \n",
       "2                     1                     0            0            1   \n",
       "3                     1                     0            0            1   \n",
       "4                     1                     0            0            1   \n",
       "\n",
       "   weekday_0   ...     hour_14  hour_15  hour_16  hour_17  hour_18  hour_19  \\\n",
       "0          1   ...           0        0        0        1        0        0   \n",
       "1          0   ...           0        0        0        0        0        0   \n",
       "2          0   ...           0        0        0        0        0        0   \n",
       "3          0   ...           0        0        0        0        0        1   \n",
       "4          0   ...           0        0        0        0        0        0   \n",
       "\n",
       "   hour_20  hour_21  hour_22  hour_23  \n",
       "0        0        0        0        0  \n",
       "1        0        0        0        0  \n",
       "2        0        0        0        0  \n",
       "3        0        0        0        0  \n",
       "4        0        0        0        0  \n",
       "\n",
       "[5 rows x 46 columns]"
      ]
     },
     "execution_count": 209,
     "metadata": {},
     "output_type": "execute_result"
    }
   ],
   "source": [
    "train.head()"
   ]
  },
  {
   "cell_type": "code",
   "execution_count": 210,
   "metadata": {
    "ExecuteTime": {
     "end_time": "2018-06-30T02:12:55.960465Z",
     "start_time": "2018-06-30T02:12:55.773918Z"
    }
   },
   "outputs": [
    {
     "data": {
      "image/png": "[encoded data removed]",
      "text/plain": [
       "<matplotlib.figure.Figure at 0x2ae6e64f87f0>"
      ]
     },
     "metadata": {},
     "output_type": "display_data"
    }
   ],
   "source": [
    "plt.boxplot(train.trip_duration)\n",
    "plt.show()"
   ]
  },
  {
   "cell_type": "markdown",
   "metadata": {},
   "source": [
    "# linear regression"
   ]
  },
  {
   "cell_type": "code",
   "execution_count": 211,
   "metadata": {
    "ExecuteTime": {
     "end_time": "2018-06-30T02:18:48.435630Z",
     "start_time": "2018-06-30T02:18:15.543047Z"
    },
    "collapsed": true
   },
   "outputs": [],
   "source": [
    "from sklearn import datasets\n",
    "from sklearn.model_selection import cross_val_predict\n",
    "from sklearn import linear_model\n",
    "import matplotlib.pyplot as plt\n",
    "\n",
    "lr = linear_model.LinearRegression()\n",
    "\n",
    "x=train.drop(\"trip_duration\",axis=1).values\n",
    "y = train.trip_duration.values\n",
    "\n",
    "\n",
    "\n",
    "# cross_val_predict returns an array of the same size as `y` where each entry\n",
    "# is a prediction obtained by cross validation:\n",
    "predicted = cross_val_predict(lr, x, y, cv=10)"
   ]
  },
  {
   "cell_type": "code",
   "execution_count": 213,
   "metadata": {
    "ExecuteTime": {
     "end_time": "2018-06-30T02:19:30.161912Z",
     "start_time": "2018-06-30T02:19:21.268627Z"
    }
   },
   "outputs": [
    {
     "data": {
      "image/png": "[encoded data removed]",
      "text/plain": [
       "<matplotlib.figure.Figure at 0x2ae695085908>"
      ]
     },
     "metadata": {},
     "output_type": "display_data"
    }
   ],
   "source": [
    "fig, ax = plt.subplots()\n",
    "ax.scatter(y, predicted, edgecolors=(0, 0, 0))\n",
    "ax.plot([y.min(), y.max()], [y.min(), y.max()], 'k--', lw=4)\n",
    "ax.set_xlabel('Measured')\n",
    "ax.set_ylabel('Predicted')\n",
    "plt.ylim(0,20)\n",
    "plt.show()"
   ]
  },
  {
   "cell_type": "code",
   "execution_count": 219,
   "metadata": {
    "ExecuteTime": {
     "end_time": "2018-06-30T02:24:54.340222Z",
     "start_time": "2018-06-30T02:24:54.323088Z"
    },
    "collapsed": true
   },
   "outputs": [],
   "source": [
    "from sklearn.ensemble import RandomForestRegressor\n",
    "from sklearn.discriminant_analysis import LinearDiscriminantAnalysis\n",
    "from sklearn.linear_model import LogisticRegression\n",
    "from sklearn.neighbors import KNeighborsClassifier\n",
    "from sklearn.tree import DecisionTreeClassifier\n",
    "from sklearn.neural_network import MLPClassifier\n",
    "from sklearn.svm import SVC\n",
    "from sklearn.model_selection import GridSearchCV, cross_val_score, StratifiedKFold, learning_curve\n"
   ]
  },
  {
   "cell_type": "code",
   "execution_count": 228,
   "metadata": {
    "ExecuteTime": {
     "end_time": "2018-06-30T02:37:19.118093Z",
     "start_time": "2018-06-30T02:33:07.834447Z"
    }
   },
   "outputs": [
    {
     "data": {
      "text/plain": [
       "RandomForestRegressor(bootstrap=True, criterion='mse', max_depth=None,\n",
       "           max_features='auto', max_leaf_nodes=None,\n",
       "           min_impurity_decrease=0.0, min_impurity_split=None,\n",
       "           min_samples_leaf=1, min_samples_split=2,\n",
       "           min_weight_fraction_leaf=0.0, n_estimators=10, n_jobs=1,\n",
       "           oob_score=False, random_state=2, verbose=0, warm_start=False)"
      ]
     },
     "execution_count": 228,
     "metadata": {},
     "output_type": "execute_result"
    }
   ],
   "source": [
    "kfold = StratifiedKFold(n_splits=10)\n",
    "classifier=RandomForestRegressor(random_state=2)\n",
    "classifier.fit(x,y)"
   ]
  },
  {
   "cell_type": "code",
   "execution_count": null,
   "metadata": {
    "collapsed": true
   },
   "outputs": [],
   "source": [
    "predicted=classifier.predict(x)"
   ]
  },
  {
   "cell_type": "code",
   "execution_count": 231,
   "metadata": {
    "ExecuteTime": {
     "end_time": "2018-06-30T02:38:30.984628Z",
     "start_time": "2018-06-30T02:38:10.556857Z"
    }
   },
   "outputs": [
    {
     "data": {
      "image/png": "[encoded data removed]",
      "text/plain": [
       "<matplotlib.figure.Figure at 0x2ae69d601f60>"
      ]
     },
     "metadata": {},
     "output_type": "display_data"
    }
   ],
   "source": [
    "fig, ax = plt.subplots()\n",
    "ax.scatter(y, predicted, edgecolors=(0, 0, 0))\n",
    "ax.plot([y.min(), y.max()], [y.min(), y.max()], 'k--', lw=4)\n",
    "ax.set_xlabel('Measured')\n",
    "ax.set_ylabel('Predicted')\n",
    "plt.show()"
   ]
  },
  {
   "cell_type": "code",
   "execution_count": 233,
   "metadata": {
    "ExecuteTime": {
     "end_time": "2018-06-30T02:39:15.080688Z",
     "start_time": "2018-06-30T02:39:10.919268Z"
    }
   },
   "outputs": [],
   "source": [
    "y_test=test.values\n",
    "y_pre=classifier.predict(y_test)"
   ]
  },
  {
   "cell_type": "code",
   "execution_count": null,
   "metadata": {
    "collapsed": true
   },
   "outputs": [],
   "source": [
    "print('Modeling RMSLE %.5f' % model.best_score)"
   ]
  },
  {
   "cell_type": "code",
   "execution_count": 242,
   "metadata": {
    "ExecuteTime": {
     "end_time": "2018-06-30T03:01:36.074872Z",
     "start_time": "2018-06-30T03:01:34.974439Z"
    },
    "collapsed": true
   },
   "outputs": [],
   "source": [
    "test_Survived = pd.Series(np.exp(y_pre), name=\"trip_duration\")\n",
    "\n",
    "results = pd.concat([idp,test_Survived],axis=1)\n",
    "\n",
    "results.to_csv(\"random_forest.csv\",index=False)"
   ]
  },
  {
   "cell_type": "code",
   "execution_count": 237,
   "metadata": {
    "ExecuteTime": {
     "end_time": "2018-06-30T02:39:49.773139Z",
     "start_time": "2018-06-30T02:39:49.762961Z"
    }
   },
   "outputs": [
    {
     "data": {
      "text/html": [
       "<div>\n",
       "<style>\n",
       "    .dataframe thead tr:only-child th {\n",
       "        text-align: right;\n",
       "    }\n",
       "\n",
       "    .dataframe thead th {\n",
       "        text-align: left;\n",
       "    }\n",
       "\n",
       "    .dataframe tbody tr th {\n",
       "        vertical-align: top;\n",
       "    }\n",
       "</style>\n",
       "<table border=\"1\" class=\"dataframe\">\n",
       "  <thead>\n",
       "    <tr style=\"text-align: right;\">\n",
       "      <th></th>\n",
       "      <th>id</th>\n",
       "      <th>trip_duration</th>\n",
       "    </tr>\n",
       "  </thead>\n",
       "  <tbody>\n",
       "    <tr>\n",
       "      <th>0</th>\n",
       "      <td>id3004672</td>\n",
       "      <td>6.557322</td>\n",
       "    </tr>\n",
       "    <tr>\n",
       "      <th>1</th>\n",
       "      <td>id3505355</td>\n",
       "      <td>6.723722</td>\n",
       "    </tr>\n",
       "    <tr>\n",
       "      <th>2</th>\n",
       "      <td>id1217141</td>\n",
       "      <td>6.018461</td>\n",
       "    </tr>\n",
       "    <tr>\n",
       "      <th>3</th>\n",
       "      <td>id2150126</td>\n",
       "      <td>6.831306</td>\n",
       "    </tr>\n",
       "    <tr>\n",
       "      <th>4</th>\n",
       "      <td>id1598245</td>\n",
       "      <td>5.733954</td>\n",
       "    </tr>\n",
       "  </tbody>\n",
       "</table>\n",
       "</div>"
      ],
      "text/plain": [
       "          id  trip_duration\n",
       "0  id3004672       6.557322\n",
       "1  id3505355       6.723722\n",
       "2  id1217141       6.018461\n",
       "3  id2150126       6.831306\n",
       "4  id1598245       5.733954"
      ]
     },
     "execution_count": 237,
     "metadata": {},
     "output_type": "execute_result"
    }
   ],
   "source": [
    "results.head()"
   ]
  },
  {
   "cell_type": "code",
   "execution_count": null,
   "metadata": {
    "collapsed": true
   },
   "outputs": [],
   "source": []
  }
 ],
 "metadata": {
  "kernelspec": {
   "display_name": "Python 3",
   "language": "python",
   "name": "python3"
  },
  "language_info": {
   "codemirror_mode": {
    "name": "ipython",
    "version": 3
   },
   "file_extension": ".py",
   "mimetype": "text/x-python",
   "name": "python",
   "nbconvert_exporter": "python",
   "pygments_lexer": "ipython3",
   "version": "3.6.3"
  },
  "toc": {
   "base_numbering": 1,
   "nav_menu": {},
   "number_sections": true,
   "sideBar": true,
   "skip_h1_title": false,
   "title_cell": "Table of Contents",
   "title_sidebar": "Contents",
   "toc_cell": false,
   "toc_position": {},
   "toc_section_display": true,
   "toc_window_display": false
  }
 },
 "nbformat": 4,
 "nbformat_minor": 2
}
